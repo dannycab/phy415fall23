{
 "cells": [
  {
   "cell_type": "code",
   "execution_count": 1,
   "metadata": {},
   "outputs": [],
   "source": [
    "## Take notes for yourself here\n",
    "\n",
    "# Idea 1\n",
    "# Idea 2"
   ]
  },
  {
   "cell_type": "code",
   "execution_count": 2,
   "metadata": {},
   "outputs": [],
   "source": [
    "## Take notes for yourself here\n",
    "\n",
    "# Idea 1\n",
    "# Idea 2"
   ]
  },
  {
   "cell_type": "code",
   "execution_count": 3,
   "metadata": {},
   "outputs": [],
   "source": [
    "## Take notes for yourself here (use comments)\n",
    "\n",
    "# Model 1\n",
    "# Model 2"
   ]
  }
 ],
 "metadata": {
  "kernelspec": {
   "display_name": "Teaching (Python 3.10.5)",
   "language": "python",
   "name": "teaching"
  },
  "language_info": {
   "codemirror_mode": {
    "name": "ipython",
    "version": 3
   },
   "file_extension": ".py",
   "mimetype": "text/x-python",
   "name": "python",
   "nbconvert_exporter": "python",
   "pygments_lexer": "ipython3",
   "version": "3.10.5"
  },
  "vscode": {
   "interpreter": {
    "hash": "4cde1c9ed8a683d36136dc08e8027575d08b07893b804429583e933d2fe93b0b"
   }
  }
 },
 "nbformat": 4,
 "nbformat_minor": 2
}