{
 "cells": [
  {
   "cell_type": "markdown",
   "id": "b984be65",
   "metadata": {},
   "source": [
    "# Calendar\n",
    "\n",
    "In this course, we will cover three principal topics in physics (in this order):\n",
    "\n",
    "- [Oscillations](../2_oscillations/readings-oscillators.ipynb)\n",
    "- Fields\n",
    "- Distributions\n",
    "\n",
    "We will spend roughly 1/3 of the course on each, and the expectaitn is that each topic has 2 completed projects.\n",
    "\n",
    "A Google Calendar appears below for class. If you review the notes in a given event, you will find the details for a class or the readings to do.\n",
    "\n",
    "<iframe src=\"https://calendar.google.com/calendar/embed?height=600&wkst=1&bgcolor=%230B8043&ctz=America%2FDetroit&mode=WEEK&showCalendars=0&showPrint=0&showDate=1&showNav=1&showTitle=0&showTabs=1&src=Zjhycm9taTQ5aGk1ZGppYmVyZmMyMWRranNAZ3JvdXAuY2FsZW5kYXIuZ29vZ2xlLmNvbQ&color=%230B8043\" style=\"border:solid 1px #777\" width=\"800\" height=\"600\" frameborder=\"0\" scrolling=\"no\"></iframe>"
   ]
  }
 ],
 "metadata": {
  "jupytext": {
   "cell_metadata_filter": "-all",
   "formats": "md:myst",
   "text_representation": {
    "extension": ".md",
    "format_name": "myst",
    "format_version": 0.13,
    "jupytext_version": "1.11.5"
   }
  },
  "kernelspec": {
   "display_name": "Python 3",
   "language": "python",
   "name": "python3"
  },
  "source_map": [
   14
  ]
 },
 "nbformat": 4,
 "nbformat_minor": 5
}