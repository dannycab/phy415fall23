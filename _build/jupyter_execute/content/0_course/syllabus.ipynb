{
 "cells": [
  {
   "cell_type": "markdown",
   "id": "5ded085e",
   "metadata": {},
   "source": [
    "# 0 - Overview of PHY 415\n",
    "\n",
    "In designing this course, I plan to emphasize more independent learning on your part and greater agency for you in determining what you learn and how you demonstrate you have learned. So you should expect:\n",
    "\n",
    "  * to read a variety of pieces of information to coordinate information\n",
    "  * to present your ideas publicly and to discuss them\n",
    "  * to learn new approaches and novel techniques on your own\n",
    "  * to become more expert than me in the areas of your interest\n",
    "  * to learn more about scientists that you have not learned about\n",
    "\n",
    "This is not to say that you are on your own. Here's what you can expect from me:\n",
    "\n",
    "  * resources, information, and tools to help you learn\n",
    "  * support and scaffolding to move you towards more independence in your learning\n",
    "  * timely and detailed feedback to help you along\n",
    "  * a commitment to an inclusive classroom\n",
    "\n",
    "## Contact Information\n",
    "\n",
    "### Instructor \n",
    "-  [Prof. Danny Caballero](http://dannycab.github.io) (he/him/his)\n",
    "-   Class Meetings: Tuesdays and Thursdays 10:20am-12:10pm (Location: 1300 BPS)\n",
    "-   Email: [caball14@msu.edu](mailto:caball14@msu.edu), office: 1310-A BPS\n",
    "-   Office hrs: To be scheduled, but I also have an open door policy. I enjoy visiting and talking with you about physics.\n",
    "-   Web page:\n",
    "    [dannycab.github.io/phy415msu/](http://dannycab.github.io/phy415msu/)\n",
    "\n",
    "### Teaching Assistant\n",
    "-   Neshad Amarasinghe (he/him/his)\n",
    "-   Email: [devanes1@msu.edu](mailto:devanes1@msu.edu)\n",
    "\n",
    "### Slack Team\n",
    "\n",
    "*This term we will be using Slack for class discussion.* The system is highly catered to getting you help fast and efficiently from classmates and myself. Rather than emailing questions, I encourage you to post your questions on there. You should be added to the Slack team by the first week of class. Email Danny if you are not part of the team. \n",
    "\n",
    "**Link:** [https://phy415fall2022.slack.com/](https://phy415fall2022.slack.com/)\n",
    "\n",
    "\n",
    "\n",
    "## Grading\n",
    "Details about [course activities are here](design.md) and [information regarding assessment is here](assessments.md). Your grade will be comprised of weekly discussion questions and several projects that you will complete in the form of a Jupyter notebook (a \"computational essay\", which we will discuss later). Your grade on each project is split between completion (50%) and quality (50%). We will collectively define \"quality\" in class, but we have provided [a preliminary rubric](rubric.md) for us to work from for the first project. Your final grade will be scaled based on your best performances; there will be slightly more projects than what comprises your grade.  *The intent here is to to allow you space to explore a model or project that you really enjoy, and to reward you for doing that.* How your grade is calculated appears below.\n",
    "\n",
    "| Activity                                  | Percent of Grade |\n",
    "|-------------------------------------------|-----------------:|\n",
    "| Best Project Grade                        |        30%       |\n",
    "| 2nd Best Project Grade                    |        25%       |\n",
    "| 3rd Best Project Grade                    |        20%       |\n",
    "| 4th Best Project Grade                    |        10%       |\n",
    "| Weekly Discussion Questions (completion)  |        15%       |\n",
    "\n",
    "**While attendance is not required, you are unlikely to succeed with your projects without regular attendance and engagement.**"
   ]
  }
 ],
 "metadata": {
  "jupytext": {
   "cell_metadata_filter": "-all",
   "formats": "md:myst",
   "text_representation": {
    "extension": ".md",
    "format_name": "myst",
    "format_version": 0.13,
    "jupytext_version": "1.11.5"
   }
  },
  "kernelspec": {
   "display_name": "Python 3",
   "language": "python",
   "name": "python3"
  },
  "source_map": [
   14
  ]
 },
 "nbformat": 4,
 "nbformat_minor": 5
}