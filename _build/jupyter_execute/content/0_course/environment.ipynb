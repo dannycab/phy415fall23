{
 "cells": [
  {
   "cell_type": "markdown",
   "id": "43bdb6a3",
   "metadata": {},
   "source": [
    "# Classroom Environment\n",
    "\n",
    "## Commitment to an Inclusive Classroom\n",
    "\n",
    "I am deeply committed to creating an inclusive classroom - one where you and your classmates\n",
    "feel comfortable, intellectually challenged, and able to speak up about your ideas\n",
    "and experiences. This means that our classroom, our virtual environments, and our interactions\n",
    "need to be as inclusive as possible. Mutual respect, civility, and the ability to listen\n",
    "and observe others are central to creating a classroom that is inclusive. I will strive to\n",
    "do this and I ask that you do the same. If I can do anything to make the classroom a better\n",
    "learning environment for you, please let me know.\n",
    "\n",
    "**If you observe or experience behaviors that violate our commitment to inclusivity,\n",
    "please let me know as soon as possible.**\n",
    "\n",
    "If I violate this principle, please let me know or please tell the undergraduate department chair, Stuart Tessmer ([tessmer@pa.msu.edu](mailto:tessmer@pa.msu.edu)), who I have informed to tell me about any such incidents without conveying student information to me.\n",
    "\n",
    "## Comments on preparation:\n",
    "\n",
    "Physics 415 covers material you might have seen before. Many of the topics\n",
    "stem from a wide variety of physics courses you might have already taken. But, we might be applying them at a higher level of conceptual and mathematical sophistication.\n",
    "\n",
    "Therefore you should expect:\n",
    "\n",
    "-   a large amount of material to review and digest.\n",
    "-   no recitations, and few examples covered in lecture. Most of the learning will be done through projects and questions you and your group mates raise.\n",
    "-   long, hard problems that usually cannot be completed by one individual alone.\n",
    "-   challenging projects.\n",
    "-   to learn more about being a physicist that you have in another class (I hope!).\n",
    "\n",
    "Physics 415 is a challenging, upper‐division physics course. Unlike more introductory courses, you are fully responsible for your own learning. In particular, you control the pace of the course by asking questions in class. I tend to speak quickly, and questions are important to slow down. This means that if you don't understand something, it is your responsibility to ask questions. Attending class and the help sessions gives you an opportunity to ask questions. I am here to help you as much as possible, but I need your questions to know what you don't understand.\n",
    "\n",
    "Physics 415 covers some of the most important physics and mathematical methods in the field. Your reward for the hard work and effort will be learning important and elegant material that you will use over and over as a physics major. Here is what I have experienced, and heard from\n",
    "other faculty teaching upper division physics in the past:\n",
    "\n",
    "- most students reported spending a minimum of 10 hours per week on the\n",
    "homework (!!)\n",
    "- students who didn't attend the help sessions\n",
    "often did poorly in the class.\n",
    "- students reported learning a tremendous amount in this class.\n",
    "\n",
    "**The course topics that we will cover in Physics 415 are among the\n",
    "greatest intellectual achievements of humans. Don't be surprised if you\n",
    "have to think hard and work hard to master the material.**"
   ]
  }
 ],
 "metadata": {
  "jupytext": {
   "cell_metadata_filter": "-all",
   "formats": "md:myst",
   "text_representation": {
    "extension": ".md",
    "format_name": "myst",
    "format_version": 0.13,
    "jupytext_version": "1.11.5"
   }
  },
  "kernelspec": {
   "display_name": "Python 3",
   "language": "python",
   "name": "python3"
  },
  "source_map": [
   14
  ]
 },
 "nbformat": 4,
 "nbformat_minor": 5
}