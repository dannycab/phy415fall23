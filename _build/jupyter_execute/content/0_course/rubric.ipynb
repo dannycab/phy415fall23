{
 "cells": [
  {
   "cell_type": "markdown",
   "id": "978529cf",
   "metadata": {},
   "source": [
    "# Project Rubrics\n",
    "\n",
    "## Preliminary (For first out of class project)\n",
    "\n",
    "We have worked together to define elements of a rubric that matter for making physical models. These elements appear as part of major learning goals below. \n",
    "\n",
    "| Goal                                                      | Fractional Importance |\n",
    "|-----------------------------------------------------------|----------------------:|\n",
    "| Investigate physical systems                              |          0.30         |\n",
    "| Construct and document a reproducible process             |          0.10         |\n",
    "| Use analytical, computational, and graphical approaches   |          0.30         |\n",
    "| Provide evidence of the quality of their work             |          0.10         |\n",
    "| Collaborate effectively                                   |          0.20         |\n",
    "\n",
    "### Goal: Investigate physical systems (0.30)\n",
    " \n",
    " - How well does your computational essay <mark>predict</mark> or <mark>explain</mark> the system of interest?\n",
    " - How well does your computational essay allow the user to <mark>explore</mark> and <mark>investigate</mark> the system?\n",
    "\n",
    "### Goal: Construct and document a reproducible process (0.10)\n",
    "\n",
    "- How well does your computational essay <mark>reproduce</mark> your results and claims?\n",
    "- How  <mark>well documented</mark> is your computational essay?\n",
    "\n",
    "### Goal: Use analytical, computational, and graphical approaches (0.30)\n",
    "\n",
    "- How well does your computational essay document your <mark>assumptions</mark>?\n",
    "- How well does your computational essay produce an <mark>understandable</mark> and <mark>parsimonious</mark> model?\n",
    "- How well does your computational essay explain the <mark>limitations</mark> of your analysis?\n",
    "\n",
    "### Goal: Provide evidence of the quality of their work\n",
    "\n",
    "- How well does your computational essay <mark>present</mark>  the case for its claims?\n",
    "- How well <mark>validated</mark>  is your model?\n",
    "\n",
    "### Goal: Collaborate effectively\n",
    "\n",
    "- How well did you <mark>share</mark>  in the class's knowledge?\n",
    "  - How well is that documented in your computational essay?\n",
    "- How well did you <mark>work with your partner</mark> ? *For those choosing to do so*"
   ]
  }
 ],
 "metadata": {
  "jupytext": {
   "cell_metadata_filter": "-all",
   "formats": "md:myst",
   "text_representation": {
    "extension": ".md",
    "format_name": "myst",
    "format_version": 0.13,
    "jupytext_version": "1.11.5"
   }
  },
  "kernelspec": {
   "display_name": "Python 3",
   "language": "python",
   "name": "python3"
  },
  "source_map": [
   14
  ]
 },
 "nbformat": 4,
 "nbformat_minor": 5
}