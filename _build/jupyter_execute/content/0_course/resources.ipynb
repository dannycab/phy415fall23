{
 "cells": [
  {
   "cell_type": "markdown",
   "id": "00eaf962",
   "metadata": {},
   "source": [
    "# Resources\n",
    "\n",
    "## Confidentiality and Mandatory Reporting\n",
    "\n",
    "College students often experience issues that may interfere with academic success such as academic stress, sleep problems, juggling responsibiities, life events, relationship concerns, or feelings of anxiety, hopelessness, or depression.\n",
    "As your instructor, one of my responsibilities is to help create a safe learning environment and to support you through these situations and experiences.\n",
    "I also have a mandatory reporting responsibility related to my role as a University employee.\n",
    "It is my goal that you feel able to share information related to your life experiences in classroom\n",
    "discussions, in written work, and in one-on-one meetings.\n",
    "I will seek to keep information you share private to the greatest extent possible.\n",
    "However, under Title IX, I am required to share information regarding sexual misconduct, relationship violence, or information\n",
    "about criminal activity on MSU's campus with the University including the Office of Institutional Equity (OIE).\n",
    "\n",
    "**Students may speak to someone confidentially by contacting MSU Counseling and Psychiatric Service (CAPS) (caps.msu.edu, 517-355-8270), MSU's 24-hour Sexual Assault Crisis Line (endrape.msu.edu, 517-372-6666), or Olin Health Center (olin.msu.edu, 517-884-6546).**\n",
    "\n",
    "## Spartan Code of Honor Academic Pledge\n",
    "\n",
    "As a Spartan, I will strive to uphold values of the highest ethical standard. I will practice honesty in my work, foster honesty in my peers, and take pride in knowing that honor is worth more than grades. I will carry these values beyond my time as a student at Michigan State University, continuing the endeavor to build personal integrity in all that I do.\n",
    "\n",
    "## Handling Emergency Situations\n",
    "\n",
    "*In the event of an emergency arising within the classroom, Prof. Caballero will notify you of what actions that may be required to ensure your safety. It is the responsibility of each student to understand the evacuation, “shelter-in-place,” and “secure-in-place” guidelines posted in each facility and to act in a safe manner. You are allowed to maintain cellular devices in a silent mode during this course, in order to receive emergency SMS text, phone or email messages distributed by the university. When anyone receives such a notification or observes an emergency situation, they should immediately bring it to the attention of Prof. Caballero in a way that causes the least disruption. If an evacuation is ordered, please ensure that you do it in a safe manner and facilitate those around you that may not otherwise be able to safely leave. When these orders are given, you do have the right as a member of this community to follow that order. Also, if a shelter-in-place or secure-in-place is ordered, please seek areas of refuge that are safe depending on the emergency encountered and provide assistance if it is advisable to do so.*"
   ]
  }
 ],
 "metadata": {
  "jupytext": {
   "cell_metadata_filter": "-all",
   "formats": "md:myst",
   "text_representation": {
    "extension": ".md",
    "format_name": "myst",
    "format_version": 0.13,
    "jupytext_version": "1.11.5"
   }
  },
  "kernelspec": {
   "display_name": "Python 3",
   "language": "python",
   "name": "python3"
  },
  "source_map": [
   14
  ]
 },
 "nbformat": 4,
 "nbformat_minor": 5
}