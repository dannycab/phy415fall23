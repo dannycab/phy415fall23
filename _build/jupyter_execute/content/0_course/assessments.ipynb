{
 "cells": [
  {
   "cell_type": "markdown",
   "id": "63e69c0d",
   "metadata": {},
   "source": [
    "# Assessments\n",
    "\n",
    "## Formative Assessment\n",
    "\n",
    "Formative assessment is often ungraded and reflective assessment. It is meant to help you make changes to your thinking, approaches, or practice. It is not evaluative, it's corrective; to help you make changes. We will make heavy use of ungraded formative feedback throughout the course. \n",
    "\n",
    "## Summative Assessment\n",
    "\n",
    "Summative assessment is typically evaluative and will take the form of course projects completed out of class. These projects will take the form of a computational essay in which you write mathematics and code to investigate and explain a given phenomenon of interest. We will explore those essays in class and talk about what makes a useful one as we define a rubric for evaluation. \n",
    "\n",
    "### Preliminary Rubric\n",
    "\n",
    "[A preliminary rubric](rubric.md) has been posted. We will use this rubric for the first out-of-class project evaluation. We will then reflect on it and make changes to collectively as a class.\n",
    "\n",
    "### Resources for Computational Essays\n",
    "\n",
    "If you want to read more about computational essays, here's a few links in the order utility/readability:\n",
    "\n",
    "* Steven Wolfram - [What is a Computational Essay?](https://writings.stephenwolfram.com/2017/11/what-is-a-computational-essay/)\n",
    "* University of Oslo Physics - [Examples of Computational Essays](https://uio-ccse.github.io/computational-essay-showroom/)\n",
    "* Odden and Burk, The Physics Teacher - [Computational Essays in the Physics Classroom](https://aapt.scitation.org/doi/abs/10.1119/1.5145471)\n",
    "* Odden, Lockwood, and Caballero, Physical Review PER - [Physics computational literacy: An exploratory case study using computational essays](https://journals.aps.org/prper/abstract/10.1103/PhysRevPhysEducRes.15.020152)"
   ]
  }
 ],
 "metadata": {
  "jupytext": {
   "cell_metadata_filter": "-all",
   "formats": "md:myst",
   "text_representation": {
    "extension": ".md",
    "format_name": "myst",
    "format_version": 0.13,
    "jupytext_version": "1.11.5"
   }
  },
  "kernelspec": {
   "display_name": "Python 3",
   "language": "python",
   "name": "python3"
  },
  "source_map": [
   14
  ]
 },
 "nbformat": 4,
 "nbformat_minor": 5
}