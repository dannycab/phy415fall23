{
 "cells": [
  {
   "cell_type": "markdown",
   "metadata": {},
   "source": [
    "# Method of Relaxation in 2d"
   ]
  },
  {
   "cell_type": "markdown",
   "metadata": {},
   "source": [
    "Maxwell's equations give us Laplace's equation for potential $\\phi$ with no source charges: \n",
    "\n",
    "$$\\nabla^2 \\phi = 0 $$\n",
    "\n",
    "in 2d this reads:\n",
    "\n",
    "$$\n",
    "\\frac{\\partial^2 \\phi}{\\partial x^2} + \\frac{\\partial^2 \\phi}{\\partial y^2} = 0.\n",
    "$$\n",
    "\n",
    "We're choosing the 2d version simply because it is nicer to visualize. Since this is a PDE, we need to specify **boundary conditions** for $\\phi$ along the edges of the box as opposed to initial conditions like we've seen for ODEs. Let's choose $\\phi = V$ along the top of the box and $\\phi = 0$ on the other sides.\n",
    "\n",
    "Numerically we can approximate the 2nd partial x derivative of $\\phi$ as:\n",
    "\n",
    "$$\n",
    "\\frac{\\partial^2 \\phi}{\\partial x^2} \\approx \\frac{\\phi(x+h,y) + \\phi(x-h,y) - 2\\phi(x,y)}{h^2}\n",
    "$$\n",
    "\n",
    "for some small positive real number $h$.\n",
    "\n",
    "We can write this for the y direction as well:\n",
    "\n",
    "$$\n",
    "\\frac{\\partial^2 \\phi}{\\partial y^2} \\approx \\frac{\\phi(x,y+h) + \\phi(x,y-h) - 2\\phi(x,y)}{h^2}\n",
    "$$\n",
    "\n",
    "Adding these gives us Laplace's equation:\n",
    "\n",
    "$$\n",
    "\\frac{\\partial^2 \\phi}{\\partial x^2} + \\frac{\\partial^2 \\phi}{\\partial y^2}  = \\frac{\\phi(x+h,y) + \\phi(x-h,y) - 2\\phi(x,y) + \\phi(x,y+h) + \\phi(x,y-h) - 2\\phi(x,y)}{h^2} = 0 \n",
    "$$\n",
    "\n",
    "or more simply:\n",
    "\n",
    "$$\n",
    "\\phi(x+h,y) + \\phi(x-h,y) + \\phi(x,y+h) + \\phi(x,y-h) - 4\\phi(x,y)= 0 \n",
    "$$\n",
    "\n",
    "We want to know $\\phi(x,y)$ and this equation thankfully has a $\\phi(x,y)$ term so we can solve for it:\n",
    "\n",
    "$$\n",
    "\\phi(x,y) = \\frac{1}{4}\\left[\\phi(x+h,y) + \\phi(x-h,y) + \\phi(x,y+h) + \\phi(x,y-h) \\right]\n",
    "$$\n",
    "\n",
    "This is saying that we can approximate $\\phi(x,y)$ by the average of the grid points that surround it, which should feel intuitive. Here comes the clever bit for how we turn this into a solver - We first the boundary points of our grid to our boundary conditions and set all the interior points to zero. Then we use this equation to update each interior point by its neighbors, that is:\n",
    "\n",
    "$$\n",
    "\\phi_{k+1}(x,y) = \\frac{1}{4}\\left[\\phi_{k}(x+h,y) + \\phi_{k}(x-h,y) + \\phi_{k}(x,y+h) + \\phi_{k}(x,y-h) \\right]\n",
    "$$\n",
    "\n",
    "Then we iterate this process, for many values of $i$ until our system converges (If it converges! This method isn't garunteed to converge.). To check for convergence, we can calculate the change $\\delta = |\\phi_{k+1}(x,y) - \\phi(x,y)|$ and terminate the algorithm when $\\delta$ is sufficiently small.\n",
    "\n",
    "## Implementing the method in python:\n",
    "\n",
    "Let's choose $V = 1$ volt with a grid spacing of $h = 0.01 m$ and a box with $1m$ long sides. Some code for the relaxation method might look like:\n"
   ]
  },
  {
   "cell_type": "code",
   "execution_count": 2,
   "metadata": {},
   "outputs": [],
   "source": []
  },
  {
   "cell_type": "code",
   "execution_count": 1,
   "metadata": {},
   "outputs": [
    {
     "name": "stdout",
     "output_type": "stream",
     "text": [
      "iter: 1 delta: 0.25\n"
     ]
    },
    {
     "name": "stdout",
     "output_type": "stream",
     "text": [
      "iter: 500 delta: 0.00048243008996595727\n"
     ]
    },
    {
     "name": "stdout",
     "output_type": "stream",
     "text": [
      "iter: 1000 delta: 0.000229620021960808\n"
     ]
    },
    {
     "name": "stdout",
     "output_type": "stream",
     "text": [
      "iter: 1500 delta: 0.00013941050635341012\n"
     ]
    },
    {
     "name": "stdout",
     "output_type": "stream",
     "text": [
      "iter: 2000 delta: 9.341822623809559e-05\n"
     ]
    },
    {
     "name": "stdout",
     "output_type": "stream",
     "text": [
      "iter: 2500 delta: 6.633821733703638e-05\n"
     ]
    },
    {
     "name": "stdout",
     "output_type": "stream",
     "text": [
      "iter: 3000 delta: 4.888935877228606e-05\n"
     ]
    },
    {
     "name": "stdout",
     "output_type": "stream",
     "text": [
      "iter: 3500 delta: 3.692387262205221e-05\n"
     ]
    },
    {
     "ename": "KeyboardInterrupt",
     "evalue": "",
     "output_type": "error",
     "traceback": [
      "\u001b[0;31m---------------------------------------------------------------------------\u001b[0m",
      "\u001b[0;31mKeyboardInterrupt\u001b[0m                         Traceback (most recent call last)",
      "Cell \u001b[0;32mIn[1], line 30\u001b[0m\n\u001b[1;32m     27\u001b[0m             phiprime[i,j] \u001b[38;5;241m=\u001b[39m phi[i,j]\n\u001b[1;32m     28\u001b[0m         \u001b[38;5;28;01melse\u001b[39;00m:\n\u001b[1;32m     29\u001b[0m             \u001b[38;5;66;03m# relaxation update equation\u001b[39;00m\n\u001b[0;32m---> 30\u001b[0m             phiprime[i,j] \u001b[38;5;241m=\u001b[39m \u001b[38;5;241;43m0.25\u001b[39;49m\u001b[43m \u001b[49m\u001b[38;5;241;43m*\u001b[39;49m\u001b[43m \u001b[49m\u001b[43m(\u001b[49m\u001b[43mphi\u001b[49m\u001b[43m[\u001b[49m\u001b[43mi\u001b[49m\u001b[38;5;241;43m+\u001b[39;49m\u001b[38;5;241;43m1\u001b[39;49m\u001b[43m,\u001b[49m\u001b[43mj\u001b[49m\u001b[43m]\u001b[49m\u001b[43m \u001b[49m\u001b[38;5;241;43m+\u001b[39;49m\u001b[43m \u001b[49m\u001b[43mphi\u001b[49m\u001b[43m[\u001b[49m\u001b[43mi\u001b[49m\u001b[38;5;241;43m-\u001b[39;49m\u001b[38;5;241;43m1\u001b[39;49m\u001b[43m,\u001b[49m\u001b[43mj\u001b[49m\u001b[43m]\u001b[49m\u001b[43m \u001b[49m\u001b[38;5;241;43m+\u001b[39;49m\u001b[43m \u001b[49m\u001b[43mphi\u001b[49m\u001b[43m[\u001b[49m\u001b[43mi\u001b[49m\u001b[43m,\u001b[49m\u001b[43mj\u001b[49m\u001b[38;5;241;43m+\u001b[39;49m\u001b[38;5;241;43m1\u001b[39;49m\u001b[43m]\u001b[49m\u001b[43m \u001b[49m\u001b[38;5;241;43m+\u001b[39;49m\u001b[43m \u001b[49m\u001b[43mphi\u001b[49m\u001b[43m[\u001b[49m\u001b[43mi\u001b[49m\u001b[43m,\u001b[49m\u001b[43mj\u001b[49m\u001b[38;5;241;43m-\u001b[39;49m\u001b[38;5;241;43m1\u001b[39;49m\u001b[43m]\u001b[49m\u001b[43m)\u001b[49m \n\u001b[1;32m     32\u001b[0m \u001b[38;5;66;03m# find max difference for delta\u001b[39;00m\n\u001b[1;32m     33\u001b[0m delta \u001b[38;5;241m=\u001b[39m np\u001b[38;5;241m.\u001b[39mabs(phi\u001b[38;5;241m-\u001b[39mphiprime)\u001b[38;5;241m.\u001b[39mmax()\n",
      "\u001b[0;31mKeyboardInterrupt\u001b[0m: "
     ]
    }
   ],
   "source": [
    "# imports\n",
    "import numpy as np\n",
    "import matplotlib.pyplot as plt\n",
    "\n",
    "# constants and parameters\n",
    "L = 1\n",
    "h = 0.01\n",
    "V = 1\n",
    "N = int(L/0.01)\n",
    "tol = 1e-5\n",
    "\n",
    "# setup phi, phiprime arrays\n",
    "phi = np.zeros((N+1,N+1))\n",
    "phiprime = np.copy(phi) # to play the part of phi (k+1)\n",
    "\n",
    "# boundary condition\n",
    "phi[0,:] = V \n",
    "\n",
    "k = 0 # track number of iterations\n",
    "delta = 1.0 # initial delta\n",
    "\n",
    "while delta > tol: # run until converged\n",
    "\n",
    "    for i in range(N+1):\n",
    "        for j in range(N+1):\n",
    "            if i == 0 or i == N or j == 0 or  j == N: # don't update boundary\n",
    "                phiprime[i,j] = phi[i,j]\n",
    "            else:\n",
    "                # relaxation update equation\n",
    "                phiprime[i,j] = 0.25 * (phi[i+1,j] + phi[i-1,j] + phi[i,j+1] + phi[i,j-1]) \n",
    "\n",
    "    # find max difference for delta\n",
    "    delta = np.abs(phi-phiprime).max()\n",
    "\n",
    "    # swap arrays to keep iterating\n",
    "    phi,phiprime = phiprime,phi \n",
    "    \n",
    "    # track iterations\n",
    "    k += 1\n",
    "    if k%500 == 0 or k ==1:\n",
    "        print(\"iter:\",k,\"delta:\",delta)         \n",
    "    delta = np.abs(phi-phiprime).max()\n",
    "\n",
    "print(k)\n",
    "plt.imshow(phi)\n",
    "plt.show()"
   ]
  },
  {
   "cell_type": "markdown",
   "metadata": {},
   "source": [
    "Now we can \"upgrade\" to the Poisson equation:\n",
    "\n",
    "$$\\nabla^2 \\phi = -\\frac{\\rho}{\\epsilon_0}$$\n",
    "\n",
    "Where $\\rho$ is a **charge density**.\n",
    "\n",
    "Substituting our 2nd partial derivative equations gives us:\n",
    "\n",
    "$$\n",
    "\\frac{\\partial^2 \\phi}{\\partial x^2} + \\frac{\\partial^2 \\phi}{\\partial y^2}  = \\frac{\\phi(x+h,y) + \\phi(x-h,y) - 2\\phi(x,y) + \\phi(x,y+h) + \\phi(x,y-h) - 2\\phi(x,y)}{h^2} = -\\frac{\\rho}{\\epsilon_0}\n",
    "$$\n",
    "\n",
    "Which in turn gives us the update equation:\n",
    "\n",
    "$$\n",
    "\\phi_{k+1}(x,y) = \\frac{1}{4}\\left[\\phi_{k}(x+h,y) + \\phi_{k}(x-h,y) + \\phi_{k}(x,y+h) + \\phi_{k}(x,y-h) \\right] + \\frac{h^2}{4\\epsilon_0} \\rho(x,y)\n",
    "$$\n",
    "\n",
    "With a couple minor edits to our previous code, we can implement this (warning: this takes a long time to converge)."
   ]
  },
  {
   "cell_type": "code",
   "execution_count": 29,
   "metadata": {},
   "outputs": [
    {
     "name": "stdout",
     "output_type": "stream",
     "text": [
      "iter: 1 delta: 28235.825615541005\n",
      "iter: 500 delta: 6832.1411354132\n",
      "iter: 1000 delta: 3251.0140515118837\n",
      "iter: 1500 delta: 1711.4857647046447\n",
      "iter: 2000 delta: 917.3925458248705\n",
      "iter: 2500 delta: 493.9909758400172\n",
      "iter: 3000 delta: 266.3548976704478\n",
      "iter: 3500 delta: 143.67581759020686\n",
      "iter: 4000 delta: 77.51158285886049\n",
      "iter: 4500 delta: 41.818661987781525\n",
      "iter: 5000 delta: 22.562173744663596\n",
      "iter: 5500 delta: 12.172908741980791\n",
      "iter: 6000 delta: 6.567631067708135\n",
      "iter: 6500 delta: 3.5434269327670336\n",
      "iter: 7000 delta: 1.9117818996310234\n",
      "iter: 7500 delta: 1.0314620584249496\n",
      "iter: 8000 delta: 0.5565038658678532\n",
      "iter: 8500 delta: 0.30025007389485836\n",
      "iter: 9000 delta: 0.16199367865920067\n",
      "iter: 9500 delta: 0.08740031719207764\n",
      "iter: 10000 delta: 0.047155024483799934\n",
      "iter: 10500 delta: 0.02544150874018669\n",
      "iter: 11000 delta: 0.013726437464356422\n",
      "iter: 11500 delta: 0.007405813783407211\n",
      "iter: 12000 delta: 0.0039956532418727875\n",
      "iter: 12500 delta: 0.002155773341655731\n",
      "iter: 13000 delta: 0.0011631026864051819\n",
      "iter: 13500 delta: 0.0006275307387113571\n",
      "iter: 14000 delta: 0.0003385692834854126\n",
      "iter: 14500 delta: 0.0001826714724302292\n",
      "iter: 15000 delta: 9.85562801361084e-05\n",
      "iter: 15500 delta: 5.31710684299469e-05\n",
      "iter: 16000 delta: 2.86884605884552e-05\n",
      "iter: 16500 delta: 1.5478581190109253e-05\n",
      "16855\n"
     ]
    },
    {
     "data": {
      "image/png": "[encoded data removed]",
      "text/plain": [
       "<Figure size 640x480 with 1 Axes>"
      ]
     },
     "metadata": {},
     "output_type": "display_data"
    }
   ],
   "source": [
    "# constants and parameters\n",
    "L = 1\n",
    "h = 0.01\n",
    "V = 1\n",
    "N = int(L/0.01)\n",
    "tol = 1e-5\n",
    "epsilon0 = 8.854e-12\n",
    "\n",
    "# setup phi, phiprime arrays\n",
    "phi = np.zeros((N+1,N+1))\n",
    "phiprime = np.copy(phi) # to play the part of phi (k+1)\n",
    "\n",
    "def rho(i,j):\n",
    "    x = i * h\n",
    "    y = j * h\n",
    "    if x >= 0.6 and x <= 0.8 and y >= 0.2 and y <= 0.4:\n",
    "        return 0.01\n",
    "    elif x >= 0.2 and x <= 0.4 and y >= 0.6 and y <= 0.8:\n",
    "        return -0.01\n",
    "    else:\n",
    "        return 0.\n",
    "\n",
    "k = 0 # track number of iterations\n",
    "delta = 1.0 # initial delta\n",
    "\n",
    "while delta > tol: # run until converged\n",
    "\n",
    "    for i in range(N+1):\n",
    "        for j in range(N+1):\n",
    "            if i == 0 or i == N or j == 0 or  j == N: # don't update boundary\n",
    "                phiprime[i,j] = phi[i,j]\n",
    "            else:\n",
    "                # relaxation update equation\n",
    "                phiprime[i,j] = 0.25 * (phi[i+1,j] + phi[i-1,j] + phi[i,j+1] + phi[i,j-1]) + h**2 / (4 * epsilon0) * rho(i,j)\n",
    "\n",
    "    # find max difference for delta\n",
    "    delta = np.abs(phi-phiprime).max()\n",
    "\n",
    "    # swap arrays to keep iterating\n",
    "    phi,phiprime = phiprime,phi \n",
    "    \n",
    "    # track iterations\n",
    "    k += 1\n",
    "    if k%500 == 0 or k ==1:\n",
    "        print(\"iter:\",k,\"delta:\",delta)         \n",
    "    delta = np.abs(phi-phiprime).max()\n",
    "\n",
    "print(k)\n",
    "plt.imshow(phi)\n",
    "plt.show()"
   ]
  },
  {
   "cell_type": "markdown",
   "metadata": {},
   "source": []
  }
 ],
 "metadata": {
  "kernelspec": {
   "display_name": "bpe",
   "language": "python",
   "name": "python3"
  },
  "language_info": {
   "codemirror_mode": {
    "name": "ipython",
    "version": 3
   },
   "file_extension": ".py",
   "mimetype": "text/x-python",
   "name": "python",
   "nbconvert_exporter": "python",
   "pygments_lexer": "ipython3",
   "version": "3.9.16"
  }
 },
 "nbformat": 4,
 "nbformat_minor": 2
}