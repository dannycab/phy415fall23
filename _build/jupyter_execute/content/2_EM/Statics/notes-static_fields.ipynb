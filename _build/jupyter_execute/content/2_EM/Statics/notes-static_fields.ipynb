{
 "cells": [
  {
   "cell_type": "markdown",
   "metadata": {},
   "source": [
    "# 26 Sept 23 - Notes: Static Fields"
   ]
  },
  {
   "cell_type": "markdown",
   "metadata": {},
   "source": [
    "## Vector Calculus\n",
    "\n",
    "[Maxwell's Equations](https://en.wikipedia.org/wiki/Maxwell%27s_equations), even in their static form (i.e., static charges or steady currents), are a set of coupled partial differential equations. In order to develop solutions and models to approximate the behavior of electromagnetic fields, we need to be able to use vector calculus. \n",
    "\n",
    "The video below from [3Blue1Brown](https://www.3blue1brown.com/) provides a conceptual introduction to the vector calculus that we are going to need for this.\n",
    "\n",
    "[![Vector Calculus](https://markdown-videos-api.jorgenkh.no/youtube/rB83DpBJQsE?width=720&height=405)](https://inv.tux.pizza/watch?v=rB83DpBJQsE)"
   ]
  },
  {
   "cell_type": "markdown",
   "metadata": {},
   "source": [
    "## Electrostatic fields"
   ]
  },
  {
   "cell_type": "markdown",
   "metadata": {},
   "source": [
    "## Magnetostatic fields"
   ]
  },
  {
   "cell_type": "markdown",
   "metadata": {},
   "source": [
    "## Additional Resources\n",
    "\n",
    "### Handwritten Notes\n",
    " - [Vector Calculus](../../assets/notes/Notes-Vector_Calculus.pdf)\n",
    " - [Electrostatics and Superposition](../../assets/notes/Notes-Electrostatics_and_Superposition.pdf)\n",
    " - [Gauss's Law](../../assets/notes/Notes-Gauss_Law.pdf)\n",
    " - [Magnetostatics](../../assets/notes/Notes-Magnetostatics.pdf)\n",
    " - [Ampere's Law](../../assets/notes/Notes-Amperes_Law.pdf)"
   ]
  },
  {
   "cell_type": "markdown",
   "metadata": {},
   "source": []
  }
 ],
 "metadata": {
  "kernelspec": {
   "display_name": "teaching",
   "language": "python",
   "name": "teaching"
  },
  "language_info": {
   "name": "python",
   "version": "3.9.16"
  }
 },
 "nbformat": 4,
 "nbformat_minor": 2
}