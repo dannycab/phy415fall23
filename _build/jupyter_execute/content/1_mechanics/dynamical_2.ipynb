{
 "cells": [
  {
   "cell_type": "markdown",
   "metadata": {},
   "source": [
    "# 14 Sep 23 - Dynamical Systems Continued"
   ]
  },
  {
   "cell_type": "markdown",
   "metadata": {},
   "source": [
    "Last time we investigated the phase portrait of the large angle pendulum, we we could arrive at by re-writing the differential equation \n",
    "\n",
    "$$\n",
    "\\ddot{\\theta} = -\\dfrac{g}{L}\\sin(\\theta)\n",
    "$$\n",
    "\n",
    "as 2 first-order differential equations:\n",
    "\n",
    "$$\n",
    "\\dot{\\theta} = \\omega \\hspace{0.5in}\\text{and}\\hspace{0.5in} \\dot{\\omega} = -\\frac{g}{L}\\sin(\\theta)\n",
    "$$\n",
    "\n",
    "By setting both of these equations equal to zero simultaneously, we also argued that this system has ([countably](https://faculty.math.illinois.edu/~kapovich/417-16/card.pdf)) infinite fixed points at $(n\\pi, 0)$ for  $n\\in \\mathbb{Z}$ in $(\\theta,\\omega)$ phase space. \n",
    "\n",
    "Now we turn to the challenge of characterizing these fixed points with the linearization of the system (see the end of tuesday's activiy for some more notes on this). Recall that we can do this by finding the eigenvalues of the Jacobian Matrix of the system at its fixed point. For the system $\\dot{x} = f(x,y)$, $\\dot{y} = g(x,y)$ the jacobian matrix looks like this:\n",
    "\n",
    "$$\n",
    "A = \\begin{bmatrix} \\frac{\\partial f}{\\partial x} & \\frac{\\partial f}{\\partial y} \\\\ \\frac{\\partial g}{\\partial x} & \\frac{\\partial g}{\\partial y}\\end{bmatrix}_{(x^*,y^*)}\n",
    "$$\n",
    "\n",
    "**&#9989; Do this** \n",
    "(this is the same problem as the last problem from tuesday)\n",
    "\n",
    "Calculate the general Jacobian matrix $A$ for this system, then calculate what it is at the fixed point $(0,0)$.\n",
    "\n",
    "We have the Jacobian at $(0,0)$ now but we still need to find its eigenvalues. Let's take a quick detour to remember how to do that."
   ]
  },
  {
   "cell_type": "markdown",
   "metadata": {},
   "source": [
    "## Eigenvalues\n",
    "\n",
    "Eigenvalues and the closely related Eigenvectors are indispensible in physics, math, and computational science. These ideas for the basis (pun somewhat intened) for countless problems, from the [energy eigenvalue equation](https://phys.libretexts.org/Bookshelves/Nuclear_and_Particle_Physics/Introduction_to_Applied_Nuclear_Physics_(Cappellaro)/02%3A_Introduction_to_Quantum_Mechanics/2.04%3A_Energy_Eigenvalue_Problem) that is the founcation of quantum mechanics, to the stability of complex nonlinear systems, to Normal Modes of oscillators, which we'll study later in this course, eigenproblems show up all over in physics. I can't resist a brief tangent: Once some scientists were using an eigenvalue driven algorithm called principal component analysis to study the genes of people that live in Europe. They found that these egenvalues/vectors reproduced a map of Europe with surprising accuracy ([link](https://www.ncbi.nlm.nih.gov/pmc/articles/PMC2735096/)). So these tools are extremely, and often unreasonably powerful.\n",
    "\n",
    "Eigenvalues are the $\\lambda$ in the equation:\n",
    "\n",
    "$$\n",
    "A\\mathbf{v} = \\lambda \\mathbf{v}\n",
    "$$\n",
    "\n",
    "Where $A$ is a linear operator of the vector space that $\\mathbf{v}$ lives in. In finite-dimensional vector spaces, like what we're considering today, these linear operators are always matricies. There is a bit of physical intuition behind this equation: An eigenvector of $A$ is a vector that only gets stretched or squished by $\\lambda$ when $A$ acts on $\\mathbf{v}$. Here's a gif from Grant Sanderson's [fantastic video](https://www.youtube.com/watch?v=PFDu9oVAE-g) on eigenvalues and eigenvectors that shows this:\n",
    "\n",
    "\n",
    "<img src=\"https://thumbs.gfycat.com/FluffyMiniatureBackswimmer-max-1mb.gif\" alt=\"Computer man\" style=\"width:320px;height:180px;\">\n",
    "\n",
    "\n",
    "### Finding Eigenvalues\n",
    "\n",
    "To actually find the eigenvalues of a matrix, you solve the **characteristic polynomial** of the matrix, which you obtain by solving the equation:\n",
    "\n",
    "$$\n",
    "|A - \\lambda I | = 0 \n",
    "$$\n",
    "\n",
    "Where the vertical bars means determinant.\n",
    "\n",
    "To find Eigenvectors, simply plug in the values you found for $\\lambda$ into the original eigenvalue equation $A\\mathbf{v} = \\lambda \\mathbf{v}$, using $\\mathbf{v} = \\begin{bmatrix}x \\\\ y\\end{bmatrix}$. You'll find some simple relationship between $x$ and $y$. Any scalar multiple of an eigenvector is also an eigenvector so we usually just choose the simplest one. Say if you found that $x = -y$. Then for a nice clean looking eigenvector you could choose $\\begin{bmatrix} -1 \\\\ 1\\end{bmatrix}$. \n",
    "\n",
    "**&#9989; Do this** \n",
    "\n",
    "Analytically, find the eigenvalues of the Jacobian matrix you calculated earlier. Use the below bullets to identify these eigenvalues with the type of the fixed point.\n",
    "\n",
    "- $\\mathrm{Re}(\\lambda) > 0 $ for both eigenvalues: Repeller/Source (unstable)\n",
    "- $\\mathrm{Re}(\\lambda) < 0 $ for both eigenvalues: Attractor/Sink  (stable)\n",
    "- One eigenvalue positive, one negative: Saddle\n",
    "- Both eigenvalues pure imaginary: Center\n",
    "\n",
    "Note: You can actually learn quite a bit more from this analysis, see Strogatz chaper 6."
   ]
  },
  {
   "cell_type": "markdown",
   "metadata": {},
   "source": [
    "### Eigenvalues, Computationally \n",
    "\n",
    "We can use `np.linalg.eig()` to find the eigenvalues (and normalized eigenvectors) of a matrix which we represent as numpy array. Below is some doe that does this (note the imaginary unit is represented as $j$ in python):"
   ]
  },
  {
   "cell_type": "code",
   "execution_count": 1,
   "metadata": {},
   "outputs": [
    {
     "name": "stdout",
     "output_type": "stream",
     "text": [
      "eigenvalues: [0.+1.j 0.-1.j]\n"
     ]
    }
   ],
   "source": [
    "import numpy as np\n",
    "A = np.array([[0,1],[-1,0]])\n",
    "eigvals = np.linalg.eig(A)[0]\n",
    "eigvecs = np.linalg.eig(A)[1]\n",
    "\n",
    "print(\"eigenvalues:\", eigvals)"
   ]
  },
  {
   "cell_type": "markdown",
   "metadata": {},
   "source": [
    "This can be super handy when you just need to do some quick caracterization from the eigenvalues of a matrix. However, be warned - since you only get numerical answers you can lose quite a bit of the nuance that comes from if you had calculated these. We'll see how that can be an issue later in the semester when we tackle normal modes. "
   ]
  },
  {
   "cell_type": "markdown",
   "metadata": {},
   "source": [
    "## Activity: Lotka - Volterra Equations\n",
    "\n",
    "The Lotka -Volterra Equations are a pair of coupled ODEs\n",
    "\n",
    "$$\\dot{x}= x(A − Bx - Cy)$$\n",
    "\n",
    "$$\\dot{y}= y(D - Fx - Gy)$$\n",
    "\n",
    "with $A,B,C,D,F,G > 0$\n",
    "\n",
    "That model the time evolution of the competition between two species, say rabbits and sheep. We'll say $x$ is the number of rabbits while $y$ is the number of sheep. This model reduces to the logistic growth model if we were to ignore the competition, say if $\\dot{x}= x(A − Bx)$\n",
    "\n",
    "**&#9989; Do this** \n",
    "1. What do each of the parameters $A,B,C,D,F,G$ represent? Why do you say so?\n",
    "2. Identify the fixed points of this system (there might be more than 2!)\n",
    "3. Find the Jacobian for these equations\n",
    "4. Modify the starter code below to so it gives you the eigenvalues of the jacobian for a given $A,B,C,D,x^*,y^*$.\n",
    "5. For the set of values of $A,B,C,D,F,G$ given in the code below, sketch what you expect the phase portrait of this system to look like. Then run the the code 2 cells below to see how well you did.\n",
    "6. Experiment with choosing different values for A,B,C,D,F,G. Does the behavior of the system change for with different choices? (the initial values given below should be a good starting point)."
   ]
  },
  {
   "cell_type": "code",
   "execution_count": 2,
   "metadata": {},
   "outputs": [
    {
     "name": "stdout",
     "output_type": "stream",
     "text": [
      "eigenvalues, 1st fixed point: [0. 0.]\n",
      "eigenvalues, 2nd fixed point: [0. 0.]\n"
     ]
    }
   ],
   "source": [
    "def jacobian(A,B,C,D,x,y):\n",
    "    return np.array([[0,0],[0,0]]) # CHANGE\n",
    "\n",
    "A,B,C,D,F,G = 3,1,2,2,1,1\n",
    "x1,y1 = 0,0 # 1st fixed point\n",
    "x2,y2 = 0,0 # 2nd fixed point CHANGE\n",
    "# more fixed points here...\n",
    "\n",
    "print(\"eigenvalues, 1st fixed point:\",np.linalg.eig(jacobian(A,B,C,D,x1,y1))[0])\n",
    "print(\"eigenvalues, 2nd fixed point:\",np.linalg.eig(jacobian(A,B,C,D,x2,y2))[0])"
   ]
  },
  {
   "cell_type": "code",
   "execution_count": 3,
   "metadata": {},
   "outputs": [
    {
     "ename": "TypeError",
     "evalue": "streamplot() got an unexpected keyword argument 'broken_streamlines'",
     "output_type": "error",
     "traceback": [
      "\u001b[0;31m---------------------------------------------------------------------------\u001b[0m",
      "\u001b[0;31mTypeError\u001b[0m                                 Traceback (most recent call last)",
      "Input \u001b[0;32mIn [3]\u001b[0m, in \u001b[0;36m<cell line: 22>\u001b[0;34m()\u001b[0m\n\u001b[1;32m     20\u001b[0m xdot, ydot \u001b[38;5;241m=\u001b[39m LV_phase(X, Y)\n\u001b[1;32m     21\u001b[0m ax \u001b[38;5;241m=\u001b[39m plt\u001b[38;5;241m.\u001b[39mfigure(figsize\u001b[38;5;241m=\u001b[39m(\u001b[38;5;241m10\u001b[39m,\u001b[38;5;241m10\u001b[39m))\n\u001b[0;32m---> 22\u001b[0m Q \u001b[38;5;241m=\u001b[39m \u001b[43mplt\u001b[49m\u001b[38;5;241;43m.\u001b[39;49m\u001b[43mstreamplot\u001b[49m\u001b[43m(\u001b[49m\u001b[43mX\u001b[49m\u001b[43m,\u001b[49m\u001b[43m \u001b[49m\u001b[43mY\u001b[49m\u001b[43m,\u001b[49m\u001b[43m \u001b[49m\u001b[43mxdot\u001b[49m\u001b[43m,\u001b[49m\u001b[43m \u001b[49m\u001b[43mydot\u001b[49m\u001b[43m,\u001b[49m\u001b[43m \u001b[49m\u001b[43mcolor\u001b[49m\u001b[38;5;241;43m=\u001b[39;49m\u001b[38;5;124;43m'\u001b[39;49m\u001b[38;5;124;43mk\u001b[39;49m\u001b[38;5;124;43m'\u001b[39;49m\u001b[43m,\u001b[49m\u001b[43mbroken_streamlines\u001b[49m\u001b[43m \u001b[49m\u001b[38;5;241;43m=\u001b[39;49m\u001b[43m \u001b[49m\u001b[38;5;28;43;01mFalse\u001b[39;49;00m\u001b[43m)\u001b[49m\n\u001b[1;32m     23\u001b[0m plt\u001b[38;5;241m.\u001b[39mscatter(x1,y1, label \u001b[38;5;241m=\u001b[39m \u001b[38;5;124m'\u001b[39m\u001b[38;5;124mfixed point 1\u001b[39m\u001b[38;5;124m'\u001b[39m)\n\u001b[1;32m     24\u001b[0m plt\u001b[38;5;241m.\u001b[39mscatter(x2,y2, label \u001b[38;5;241m=\u001b[39m \u001b[38;5;124m\"\u001b[39m\u001b[38;5;124mfixed point 2\u001b[39m\u001b[38;5;124m\"\u001b[39m)\n",
      "\u001b[0;31mTypeError\u001b[0m: streamplot() got an unexpected keyword argument 'broken_streamlines'"
     ]
    },
    {
     "data": {
      "text/plain": [
       "<Figure size 720x720 with 0 Axes>"
      ]
     },
     "metadata": {},
     "output_type": "display_data"
    }
   ],
   "source": [
    "import matplotlib.pyplot as plt\n",
    "def LV_eqns(x, y):\n",
    "    xdot, ydot = [x*(A - B*x - C*y), y*(D - F*x - G*y)]\n",
    "    return xdot, ydot\n",
    "\n",
    "def LV_phase(X, VX):\n",
    "    xdot, ydot = np.zeros(X.shape), np.zeros(VX.shape)\n",
    "    Xlim, Ylim = X.shape\n",
    "    for i in range(Xlim):\n",
    "        for j in range(Ylim):\n",
    "            xloc = X[i, j]\n",
    "            yloc = VX[i, j]\n",
    "            xdot[i,j], ydot[i,j] = LV_eqns(xloc, yloc)\n",
    "    return xdot, ydot\n",
    "\n",
    "N = 40\n",
    "x = np.linspace(0., 3.5, N)\n",
    "y = np.linspace(0., 3.5, N)\n",
    "X, Y = np.meshgrid(x, y)\n",
    "xdot, ydot = LV_phase(X, Y)\n",
    "ax = plt.figure(figsize=(10,10))\n",
    "Q = plt.streamplot(X, Y, xdot, ydot, color='k',broken_streamlines = False)\n",
    "plt.scatter(x1,y1, label = 'fixed point 1')\n",
    "plt.scatter(x2,y2, label = \"fixed point 2\")\n",
    "plt.legend()\n",
    "plt.grid()\n",
    "plt.xlabel('$rabbits$')\n",
    "plt.ylabel('$sheep$')\n",
    "plt.show()"
   ]
  },
  {
   "cell_type": "markdown",
   "metadata": {},
   "source": [
    "## Investigating the Van der Pol Oscillator\n",
    "\n",
    "It turns out there is some more interesting behavior other than just the behavior around fixed points. Toward seeing that, let's look at the Van der Pol Oscillator. This equation originates from lonlinear circuits in early radios, but has now also been used in neuroscience and geology. It is given by the differential equation:\n",
    "\n",
    "$$\n",
    "\\ddot{x} = -\\mu (x^2 - 1)\\dot{x} - x\n",
    "$$\n",
    "\n",
    "or, written as two first order equations:\n",
    "\n",
    "$$\n",
    "\\dot{x} = v \\hspace{1in} \\dot{v} = -\\mu (x^2 - 1)v - x\n",
    "$$\n",
    "\n",
    "With $\\mu > 0$. Note that this equation is simply the harmonic oscillator when $\\mu = 0$. The strange $-\\mu (x^2 - 1)\\dot{x}$ represents damping, but this damping behaves strangely, because when $|x|<1$ it is negative damping, that is it boosts oscillations smaller than $1$, while still slowing down oscillations larger than $1$. \n",
    "\n",
    "Now we play the usual game of trying to figure out how this system behaves:\n",
    "\n",
    "**&#9989; Do this** \n",
    "\n",
    "1. Identify the fixed point of this system. Follow the linearization procedure to characterize it. \n",
    "2. Edit the code below to produce a phase plot for the Van der Pol oscillator. This code also numerically integrates a trajectory and plots it. Add a second trajectory and plot that as well.\n",
    "3. What happens to phase space when you change the value of $\\mu$? What if you make it negative?\n",
    "4. What behavior do you notice here that's different than you've seen before? What is attracting the trajectories?\n"
   ]
  },
  {
   "cell_type": "code",
   "execution_count": 60,
   "metadata": {},
   "outputs": [
    {
     "data": {
      "image/png": "[encoded data removed]",
      "text/plain": [
       "<Figure size 1000x1000 with 1 Axes>"
      ]
     },
     "metadata": {
      "filenames": {
       "image/png": "/Users/caballero/Repos/teaching/phy415fall23/_build/jupyter_execute/content/1_mechanics/dynamical_2_10_0.png"
      }
     },
     "output_type": "display_data"
    }
   ],
   "source": [
    "import matplotlib.pyplot as plt\n",
    "from scipy.integrate import solve_ivp\n",
    "\n",
    "def VP_eqn(x, v, mu = 1.):\n",
    "    xdot, vdot = [0,0] ## CHANGE\n",
    "    return xdot, vdot\n",
    "\n",
    "def VP_phase(X, VX, mu):\n",
    "    xdot, vdot = np.zeros(X.shape), np.zeros(VX.shape)\n",
    "    Xlim, Ylim = X.shape\n",
    "    for i in range(Xlim):\n",
    "        for j in range(Ylim):\n",
    "            xloc = X[i, j]\n",
    "            yloc = VX[i, j]\n",
    "            xdot[i,j], vdot[i,j] = VP_eqn(xloc, yloc,mu)\n",
    "    return xdot, vdot\n",
    "\n",
    "def VP_eqn_for_solve_ivp(t,curr_vals, mu=1): # need to rephrase this to work with what solve_ivp expects\n",
    "    x, v = curr_vals \n",
    "    xdot, vdot = VP_eqn(x,v,mu)\n",
    "    return xdot,vdot\n",
    "\n",
    "# Numerical Integration\n",
    "tmax = 20\n",
    "dt = 0.05\n",
    "tspan = (0,tmax)\n",
    "t = np.arange(0,tmax,dt)\n",
    "mu = 1.\n",
    "initial_condition = [1, 1] \n",
    "solved = solve_ivp(VP_eqn_for_solve_ivp,tspan,initial_condition,t_eval = t, args = (mu,),method=\"RK45\")\n",
    "\n",
    "\n",
    "# Plotting stuff\n",
    "N = 40\n",
    "x = np.linspace(-3., 3., N)\n",
    "v = np.linspace(-3., 3., N)\n",
    "X, V = np.meshgrid(x, v)\n",
    "xdot, vdot = VP_phase(X, V,mu)\n",
    "ax = plt.figure(figsize=(10,10))\n",
    "Q = plt.streamplot(X, V, xdot, vdot, color='k',broken_streamlines = False)\n",
    "plt.plot(solved.y[0],solved.y[1],lw = 3,c = 'red') # plot trajectory from solve_ivp\n",
    "plt.grid()\n",
    "plt.xlabel('$x$')\n",
    "plt.ylabel('$v$')\n",
    "plt.show()"
   ]
  },
  {
   "cell_type": "markdown",
   "metadata": {},
   "source": [
    "**&#9989; Do this** \n",
    "\n",
    "Based on the phase space diagram, what do you expect actual trajectories to look like in $x$ vs $t$ space? Use the numerically integrated trajectories to plot that."
   ]
  },
  {
   "cell_type": "code",
   "execution_count": 61,
   "metadata": {},
   "outputs": [],
   "source": [
    "## your code here"
   ]
  },
  {
   "cell_type": "markdown",
   "metadata": {},
   "source": [
    "### Limit Cycles\n",
    "\n",
    "The new behavior we've seen from this equation is what's called a **limit cycle**, where the system is attracted/reppeled from a closed curve instead of a fixed point(s). There's a lot of really great math here that's a bit beyond what we can cover in class, but it would be a great thing to look into for a project!\n",
    "\n",
    "**&#9989; Do this** \n",
    "\n",
    "Spend the rest of class investigating the Van der Pol oscillator. Here are a few investigations you could do:\n",
    "\n",
    " - When $\\mu$ changes from negative to positive, this system undergoes what is known as a **Hopf Bifurcation** Look up what bifurcations are to understand what this means and show that it is true using numerical integration. \n",
    " - Add an $A\\sin(t)$ driving force term to the differential equation and numerically integrate. What do these trajectories look like in $x$ vs $t$ and in phase space?\n",
    " - Examine the energetics of this system. Is energy conserved or does it have some interesting behavior? Why?"
   ]
  },
  {
   "cell_type": "code",
   "execution_count": 62,
   "metadata": {},
   "outputs": [],
   "source": [
    "# code here"
   ]
  }
 ],
 "metadata": {
  "kernelspec": {
   "display_name": "bpe",
   "language": "python",
   "name": "python3"
  },
  "language_info": {
   "codemirror_mode": {
    "name": "ipython",
    "version": 3
   },
   "file_extension": ".py",
   "mimetype": "text/x-python",
   "name": "python",
   "nbconvert_exporter": "python",
   "pygments_lexer": "ipython3",
   "version": "3.10.5"
  }
 },
 "nbformat": 4,
 "nbformat_minor": 2
}