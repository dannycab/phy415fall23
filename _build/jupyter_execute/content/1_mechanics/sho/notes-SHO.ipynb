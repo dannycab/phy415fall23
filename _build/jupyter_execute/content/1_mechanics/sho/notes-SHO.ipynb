{
 "cells": [
  {
   "cell_type": "markdown",
   "metadata": {},
   "source": [
    "# 29 Sept 23 - Notes: Simple Harmonic Oscillator\n",
    "\n",
    "## A Linear Restoring Force\n",
    "\n",
    "The SHO model, as we will see, is the root of many more sophisticated models in physics -- across many subdisciplines. There's a reason for this. The SHO is a simple model that captures the essence of many physical systems. It is a mathematical model for a \"linear restoring force\". Such a force gives rise to local stability, that is, a tendency for the system to return to a stable equilibrium position. The richness of this statement is not entirely clear, but we will see that it is a very powerful idea, that is related to to energy minimization, and the idea of a potential energy function.\n",
    "\n",
    "A linear restoring force is simply one in which the size of the force is in direct proportion to some displacement and is directed opposite to the displacement. For example, a coiled spring exerts (rooughly) a linear restoring force. If you pull on a spring, the spring exerts a force on your hand that is proportional to the distance you pull the spring. It is directed opposite to the direction you pull. \n",
    "\n",
    "In 1D, we can write this as:\n",
    "\n",
    "$$F_{\\rm spring} = -kx$$\n",
    "\n",
    "where $k$ is the spring constant. The negative sign indicates that the force is directed opposite to the displacement, and $x$ is the displacement from the equilibrium position. As we are going to consider more general motion, we can abstract this concept of a linear restoring force to three dimensions, and write:\n",
    "\n",
    "$$\\vec{F}_{\\rm spring} = -k \\Delta \\vec{x}$$\n",
    "\n",
    "where $\\Delta \\vec{x}$ is the displacement vector from the equilibrium position.\n",
    "\n",
    "Even more abstractly, we can consider directions of pulling and pushing on a solid body where each direction has a corresponding spring constant. In this case, we can write:\n",
    "\n",
    "$${T}_{ij} = k_{ij} \\Delta \\vec{x}$$\n",
    "\n",
    "where $T_{ij}$ is the force component in the $i$ direction due to a displacement in the $j$ direction. The force is directed opposite to the displacement, and $k_{ij}$ is the spring constant for the $i$ direction due to a displacement in the $j$ direction."
   ]
  },
  {
   "cell_type": "markdown",
   "metadata": {},
   "source": [
    "## The SHO mathematical model\n",
    "\n",
    "\n",
    "\n",
    "We have seen for the canonical one-dimensional harmonic oscillator is described by the following **2nd order linear** differential equation:\n",
    "\n",
    "$$m\\ddot{s} = -k{s}$$\n",
    "\n",
    "where $s$ represents the distance from the oscillators equilibrium position. It's important to note that this model for a linear restoring force gives rise to at **econd order** differential equation. As you will see, there would be no ability for cycles or recurrent behavior without two dimensions (the two dimensions here are the position, $s$, and velocity of the oscillator, $\\dot{s}$). It is also important that the differential equation is **linear**."
   ]
  },
  {
   "cell_type": "markdown",
   "metadata": {},
   "source": [
    "### Linearity of differential equations\n",
    "\n",
    "This is something that is easy to confuse because we use the term **linear** in different ways at different times. In many cases this prompts us to think of a line, so that we might think the only linear differential equations are ones where the variable of interest (in this case the position of the oscillator) appears only *linearly* in the equation. \n",
    "\n",
    ":::{warning}\n",
    "So you might think that Nth order differential equations of the form:\n",
    "\n",
    "$$\\dfrac{d^n x}{dt^n} = c\\;x$$\n",
    "\n",
    "are the only ones that are linear. *Note for the harmonic oscillator $n=2$.*\n",
    ":::\n",
    "\n",
    "**That is not the case and this is key.**\n",
    "\n",
    "The linearity refers to the fact that we can write the differential equation as a **linear combination of the derivatives**. \n",
    "\n",
    ":::{tip}\n",
    "\n",
    "So an $N$th linear differential equation (e.g., for position and time) can have the general form:\n",
    "\n",
    "$$\\sum_{i=0}^N a_i(t)\\dfrac{d^ix}{dt} = f(t)$$\n",
    "\n",
    "where $\\dfrac{d^ix}{dt}$ is the $i$th derivative of $x$ (e.g., $i=0$, $\\dfrac{d^0x}{dt}=x$; $i=1$, $\\dfrac{d^0x}{dt}=\\dfrac{dx}{dt}$) The coefficients are allowed to depend explicitly on time (i.e., $a_i(t)$; you have probably seen *constant coefficients* in the past (where $\\dfrac{da_i(t)}{dt}=0$, i.e., $a_i(t) =$ constant). In addition, as you can explore later, the system can be driven by a function that depends only on time (e.g., some forcing function, $f(t)$).\n",
    ":::"
   ]
  },
  {
   "cell_type": "markdown",
   "metadata": {},
   "source": [
    "### Why does linearity matter?\n",
    "\n",
    "Because much of nature can be modeled with linear differential equations (or approximately so) and linear differential equations have really nice solution properties. *The solutions to linear differential equations are **holonomic functions**. This is just a fancy word for functions you know like polynomials, sine, cosine, exponentiale, and some special functions (e.g., Airy, Bessel, hypergeometric). But these solutions are really important because they are smooth as are their derivatives, so they have really nice properties. \n",
    "\n",
    "In many cases, we can lean on strong properties dervied from linearity:\n",
    "\n",
    "- [Uniqueness](https://en.wikipedia.org/wiki/Cauchy%E2%80%93Kowalevski_theorem): If we find a solution to the differential equation and it satisfies the boundary/initial conditions, we are guaranteed that this is the only solution.\n",
    "- Linear combinations: The linear nature of the differential equation means linear combinations of general solutions are unchanged. We can build solutions from known general solutions.\n",
    "\n",
    "```{admonition} The Cauchy-Kowaleski theorem \n",
    "This theorem is typically called the Cauchy theorem (or the uniqueness theorem) for [Augustin Louis-Cachy](https://en.wikipedia.org/wiki/Augustin-Louis_Cauchy), a French mathematician who contributed much to the field of complex analysis. However, Cauchy only proved this theorem in a special case.  A Russian Mathematician, [Sofya Kovalevskaya](https://en.wikipedia.org/wiki/Sofya_Kovalevskaya), who was the first woman to earn a PhD in Mathematics (earned 1874, University of G&ouml;ttingen), proved the theorem, in general, in her dissertation. \n",
    "\n",
    "**So, it is really the \"Kovalevskaya-Cauchy\" theorem.**\n",
    "```"
   ]
  },
  {
   "cell_type": "markdown",
   "metadata": {},
   "source": [
    "## General Solution to the SHO\n",
    "\n",
    "We can start with the differential equation:\n",
    "\n",
    "$$\\ddot{x} = -\\omega^2 x$$\n",
    "\n",
    "where $x$ is the position relative to equilibrium and $\\omega^2 = k/m$. We know this is a linear, second-order ODE, so we expect the solutions to be [holonomic functions](https://en.wikipedia.org/wiki/Holonomic_function) - that is, many of the functions we have seen before. Moreover, we need something that when we take two derivatives, we get the same functions back.\n",
    "\n",
    "*This is a key to suggest $\\sin$ and $\\cos$ as our proposed linear combination.*\n",
    "\n",
    "Now, we have to decide how to do that. Because **ANY** linear combination is a good starting guess, but not all of them a reasonable guesses. How do we decide? "
   ]
  },
  {
   "cell_type": "markdown",
   "metadata": {},
   "source": [
    "#### Discussion Question\n",
    "\n",
    "**&#9989; Do this** \n",
    "\n",
    "Below are several choices of potential general solution guesses, called \"ansatz\" in many books and classes. Which of them will work for us? How do you know? *Discuss with your neighbors* Demonstrate that one solution you chose works.\n",
    "\n",
    "$$x(t) = A\\cos(\\omega t)$$\n",
    "$$x(t) = B\\sin(\\omega t)$$\n",
    "$$x(t) = A\\cos(\\omega t)+B\\sin(\\omega t)$$\n",
    "$$x(t) = B\\sin(\\omega t+ \\phi_B)$$\n",
    "$$x(t) = \\sum_i^N A_i\\cos(\\omega_i t) + B_i\\sin(\\omega_i t)$$\n",
    "\n",
    "**What other general solution forms will work?**"
   ]
  },
  {
   "cell_type": "markdown",
   "metadata": {},
   "source": [
    "### Particular Solutions\n",
    "\n",
    "Let's pick two general solutions:\n",
    "\n",
    "$$x(t) = A\\cos(\\omega t) + B\\sin(\\omega t)$$\n",
    "\n",
    "$$x(t) = C\\sin(\\omega t + \\phi_C)$$\n",
    "\n",
    "**&#9989; Do this** \n",
    "\n",
    "- For an SHO that is pulled to a point $x_0$ and let go at $t=0$, find the particular solutions using both general forms. **Compare and contrast these solutions with your neighbor.** What do you notice about them? How can they be made compatible with each other?\n",
    "- Make a plot (in this notebook) of both solutions for an SHO with frequency of 100Hz that starts at $x_0 =$ 0.1m\n",
    "- Adjust the starting location and frequency, what do you notice?\n",
    "- **If you have time**, create another solution for an SHO that is put into motion with a velocity of +0.1m/s at $x_0=0$ at $t=0$."
   ]
  },
  {
   "cell_type": "code",
   "execution_count": 1,
   "metadata": {},
   "outputs": [
    {
     "data": {
      "text/plain": [
       "[<matplotlib.lines.Line2D at 0x117c68160>]"
      ]
     },
     "execution_count": 1,
     "metadata": {},
     "output_type": "execute_result"
    },
    {
     "data": {
      "image/png": "[encoded data removed]",
      "text/plain": [
       "<Figure size 432x288 with 1 Axes>"
      ]
     },
     "metadata": {
      "filenames": {
       "image/png": "/Users/caballero/Repos/teaching/phy415fall23/_build/jupyter_execute/content/1_mechanics/sho/notes-SHO_7_1.png"
      },
      "needs_background": "light"
     },
     "output_type": "display_data"
    }
   ],
   "source": [
    "import numpy as np\n",
    "import matplotlib.pyplot as plt\n",
    "\n",
    "#################################\n",
    "# Adjust code to fit your needs #\n",
    "#################################\n",
    "\n",
    "t = np.arange(0,10,0.1)\n",
    "x = t**2\n",
    "\n",
    "plt.plot(t,x)"
   ]
  },
  {
   "cell_type": "markdown",
   "metadata": {},
   "source": [
    "### SHO properties\n",
    "\n",
    "You have likely work with the SHO in other contexts. You have learned about a variety of aspects of the SHO. Talk with your neighbor about different things you all know about the properties of the SHO (it's motion, it's energy, etc.). \n",
    "\n",
    "**&#9989; Do this** \n",
    "\n",
    "Decide on one or two things to investigate and plot with respect to the SHO. **Be ready to explain your figure, to discuss how to improve it, and what we can claim from it.** "
   ]
  },
  {
   "cell_type": "markdown",
   "metadata": {},
   "source": []
  },
  {
   "cell_type": "code",
   "execution_count": 2,
   "metadata": {},
   "outputs": [
    {
     "data": {
      "text/plain": [
       "[<matplotlib.lines.Line2D at 0x117d50610>]"
      ]
     },
     "execution_count": 2,
     "metadata": {},
     "output_type": "execute_result"
    },
    {
     "data": {
      "image/png": "[encoded data removed]",
      "text/plain": [
       "<Figure size 432x288 with 1 Axes>"
      ]
     },
     "metadata": {
      "filenames": {
       "image/png": "/Users/caballero/Repos/teaching/phy415fall23/_build/jupyter_execute/content/1_mechanics/sho/notes-SHO_10_1.png"
      },
      "needs_background": "light"
     },
     "output_type": "display_data"
    }
   ],
   "source": [
    "import numpy as np\n",
    "import matplotlib.pyplot as plt\n",
    "\n",
    "#################################\n",
    "# Adjust code to fit your needs #\n",
    "#################################\n",
    "\n",
    "t = np.arange(0,10,0.1)\n",
    "x = t**2\n",
    "\n",
    "plt.plot(t,x)"
   ]
  },
  {
   "cell_type": "markdown",
   "metadata": {},
   "source": [
    "## Resources\n",
    "\n",
    "Here are scans of four sections of four books (that you can look over at my office, or find elsewhere) that are useful for our study of the SHO and will help you with your project ideas and plans.\n",
    "\n",
    "*Sorry for the potato quality, and apparently the orientations, which I corrected but github refuses to keep the same orientation.  I will do better next class and try to fix these later.*\n",
    "\n",
    "- [Boas, Mathematical Methods, Sec 8.5](https://github.com/dannycab/phy415msu/blob/main/MMIPbook/assets/pdfs/scans/Boas_ODEs_8.5.pdf)\n",
    "    - This section goes into all the math (in general) for ODEs like the SHO, which are second order ($\\ddot{x}$), have constant coefficients (e.g., no explicit time dependence of the coefficients), and that are \"homogenous\" (i.e., have no constant terms or explicit functions of time).\n",
    "    - If you want to be reminded about all the ODE things, it's a good read. \n",
    "- [Crawford, Waves, Secs. 1.1-1.2](https://github.com/dannycab/phy415msu/blob/main/MMIPbook/assets/pdfs/scans/Crawford_Waves_1.1-1.2.pdf)\n",
    "    - This is an excellent book in general, but this a good reminder of all the things we did today in book form. His analysis and presenttation are formal, but really jammed packed with information. Crawford doesn't waste words. This book is out of print, but really worth reading if you are interested in waves. I tried to reproduce some of this in my own notes below.\n",
    "- [Marion and Thorton, Classical Mechanics, Secs. 3.1-3.2](https://github.com/dannycab/phy415msu/blob/main/MMIPbook/assets/pdfs/scans/Marion_Thornton_Oscillations_3.1-3.2.pdf)\n",
    "    - This is a canonical text, that is boring. But it was all the things we did today and some stuff about the energetics.\n",
    "- [Strogatz, Nonlinear Dynamics, Sec. 5.1](https://github.com/dannycab/phy415msu/blob/main/MMIPbook/assets/pdfs/scans/Strogatz_Nonlinear_Ch5.1.pdf)\n",
    "    - This book is great. We are jumping into the middle of it, but the description of phase space analysis is so important and useful. I have tried to reproduce this in my own notes below.\n",
    "\n",
    "## Handwritten Notes\n",
    "\n",
    "Below, I have worked up some additional notes that describe the conceptual and procedural aspects of what we did today. Think: derivations and examples for learning from for your project. They are linked below:\n",
    "\n",
    "- [The SHO](https://github.com/dannycab/phy415msu/blob/main/MMIPbook/assets/pdfs/notes/Notes_2_SHO.pdf)"
   ]
  },
  {
   "cell_type": "markdown",
   "metadata": {},
   "source": []
  }
 ],
 "metadata": {
  "celltoolbar": "Edit Metadata",
  "kernelspec": {
   "display_name": "Teaching (Python 3.10.5)",
   "language": "python",
   "name": "teaching"
  },
  "language_info": {
   "codemirror_mode": {
    "name": "ipython",
    "version": 3
   },
   "file_extension": ".py",
   "mimetype": "text/x-python",
   "name": "python",
   "nbconvert_exporter": "python",
   "pygments_lexer": "ipython3",
   "version": "3.10.5"
  },
  "vscode": {
   "interpreter": {
    "hash": "4cde1c9ed8a683d36136dc08e8027575d08b07893b804429583e933d2fe93b0b"
   }
  }
 },
 "nbformat": 4,
 "nbformat_minor": 4
}