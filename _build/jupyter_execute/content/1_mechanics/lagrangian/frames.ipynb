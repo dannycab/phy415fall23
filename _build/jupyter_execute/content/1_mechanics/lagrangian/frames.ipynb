{
 "cells": [
  {
   "cell_type": "markdown",
   "metadata": {},
   "source": [
    "# 31 Aug 23 - Frames and Coordinates"
   ]
  },
  {
   "cell_type": "markdown",
   "metadata": {},
   "source": [
    "\n",
    "## Forces in different frames \n",
    "\n",
    "One of the critical things that we must note is that the natural world changes and we observe it. The models (or laws) that we use to describe nature must accurately describe our observations. This is challenging when observers use different frames (or even different coordinates in the same frame) to show we have the same observations. Moving between coordinate systems and frames is a critical skill in physics.\n"
   ]
  },
  {
   "cell_type": "markdown",
   "metadata": {},
   "source": [
    "## Polar coordinates\n",
    "\n",
    "**&#9989; Do this** \n",
    "\n",
    "Many problems in physics require the use of non-Cartesian coordinates, such as the Hydrogen atom or the two-body problem. One such coordinate system is **plane-polar coordinates**. In this coordinate system, any vector $\\mathbf{r}\\in \\mathbb{R}^2$ is described by a distance $r$ and angle $\\phi$ instead of Cartesian coordinates $x$ and $y$. The following four equations show how points transform in these coordinate systems.\n",
    "\n",
    "$$\n",
    "x = r\\cos \\phi \\hspace{1in} y = r\\sin \\phi\n",
    "$$\n",
    "\n",
    "$$\n",
    "r = \\sqrt{x^2 + y^2} \\hspace{1in} \\phi = \\arctan(y / x)\n",
    "$$\n"
   ]
  },
  {
   "cell_type": "markdown",
   "metadata": {},
   "source": [
    "### Getting Oriented\n",
    "\n",
    "Borrowed from [CU Boulder Physics]\n",
    "\n",
    "A particle moves in the plane. We could describe its motion in two different ways:\n",
    "\n",
    "- CARTESIAN: I tell you $x(t)$ and $y(t)$.\n",
    "- POLAR: I tell you $r(t)$ and $\\phi(t)$. (Here $r(t)$ = $|\\mathbf{r}(t)|$, it's the \"distance to the origin\")\n",
    "\n",
    "- (a) Draw a picture showing the location of the point at some arbitrary time, labeling $x, y, r, \\phi$ and also showing the unit vectors $\\hat{i}, \\hat{j}, \\hat{r},$ and $\\hat{\\phi}$, all at this one time.\n",
    "- (b) Using this picture, determine the formula for $\\hat{r}(t)$ in terms of the Cartesian unit vectors. You answer should contain $\\phi(t)$.\n",
    "- (c) Write down the analogous expression for $\\hat{\\phi}(t)$.\n",
    "- (d) We can claim the position vector in Cartesian coordinates is $\\vec{r}(t) = x(t)\\hat{I} + y(t)\\hat{j}$. Do you agree? Is this consistent with your picture above?\n",
    "- (e) We can claim the position vector in polar coordinates is just $\\vec{r}(t) = r(t)\\hat{r}$. Again, do you agree? Why isn't there a $+\\phi(t)\\hat{\\phi}$ term?"
   ]
  },
  {
   "cell_type": "markdown",
   "metadata": {},
   "source": [
    "### Getting Kinetic\n",
    "\n",
    "- (a) Now let's find the velocity, $\\vec{v}(t) = d\\vec{r}/dt$. In Cartesian coordinates, it's just $\\vec{v}(t) = \\dot{x}(t)\\hat{i} + \\dot{y}(t)\\hat{j}$. Explain why, in polar coordinates, the velocity can be written as $d\\vec{r}/dt = r(t)\\:d\\hat{r}/dt + dr(t)/dt\\:\\hat{r}$.\n",
    "- (b) It appears we need to figure out what $d\\hat{r}/dt$ is. Use the formula your determined in question 1b to get started -- first in terms of $\\hat{i}$ and $\\hat{j}$, and then converting to pure polar.\n",
    "- (c) Write an expression for $\\vec{v}(t)$ in polar coordinates.\n",
    "- (d) Finally, determine the acceleration $\\vec{a} = d\\vec{v}(t)/dt$. In Cartesian coordinates, it's just $\\vec{a}(t) = \\ddot{x(t)}\\hat{i} + \\ddot{y}(t)\\hat{j}$. Work it on in polar coordinates."
   ]
  },
  {
   "cell_type": "markdown",
   "metadata": {},
   "source": [
    "\n",
    "\n",
    "\n",
    "\n",
    "\n",
    "\n",
    "\n",
    "\n",
    "This also let's us write kinetic energy as $T = \\frac{1}{2}m(\\dot{r} + r^2\\dot{\\phi}^2)$.\n",
    "\n",
    "\n",
    "We'd like to know how to write down Newton's second law in this coordinate system, but this is not as simple as before because the unit vectors in polar coordinate are NOT constant. We'll denote the unit vectors for polar coordinates by $\\hat{\\mathbf{r}}$ and $\\hat{\\boldsymbol{\\phi}}$. $\\hat{\\mathbf{r}}$ points in the direction of increasing $r$ with $\\phi$ fixed, and similarly $\\hat{\\boldsymbol{\\phi}}$ points in the direction of increasing $\\phi$ with $r$ fixed.\n",
    "\n",
    "\n",
    "However, this doesen't stop us from being able to break down a net force into its components along each unit vector:\n",
    "\n",
    "$$\n",
    "\\mathbf{F} = F_r \\hat{\\mathbf{R}} + F_\\phi \\hat{\\boldsymbol{\\phi}}\n",
    "$$\n",
    "\n",
    "And the second law still holds:\n",
    "\n",
    "$$\n",
    "\\mathbf{F} = m\\ddot{\\mathbf{r}}\n",
    "$$\n",
    "\n",
    "It would be very useful if we had expressions for $F_r$ and $F_\\phi$ in terms of $r$ and $\\phi$. Toward finding these, we can start by writing:\n",
    "\n",
    "$$\n",
    "\\mathbf{r} = r\\hat{\\mathbf{r}}\n",
    "$$\n",
    "\n",
    "\n",
    "### Task\n",
    "\n",
    "**&#9989; Do this** \n",
    "\n",
    "Find $\\dot{\\mathbf{r}}$ by differentiating $\\mathbf{r}$ with respect to time. (see hint below)\n",
    "\n",
    "\n",
    "\n",
    "**&#9989; Do this** \n",
    "\n",
    "\n",
    "\n",
    "Find $\\ddot{\\mathbf{r}}$ by differentiating $\\dot{\\mathbf{r}}$ with respect to time. Then find $F_r$ and $F_\\phi$. (see hint below)\n",
    "\n",
    "\n",
    "<!--\\dot{\\mathbf{r}} = \\dot{r}\\hat{r} + r\\dot{\\phi}\\hat{phi} -->\n",
    "<!-- -->\n",
    "\n",
    "\n",
    "Hint: During these problems, you'll need to find expressions for $\\frac{d\\hat{\\mathbf{r}}}{dt}$ and $\\frac{d\\hat{\\boldsymbol{\\phi}}}{dt}$, which [these pictures](https://raw.githubusercontent.com/valentine-alia/phy415fall23/main/content/assets/frames_hint.pdf) might help with.\n"
   ]
  },
  {
   "cell_type": "markdown",
   "metadata": {},
   "source": [
    "#### Angular momentum\n",
    "\n",
    "One of the powerful things you get from using this coordinate system is a handy way to represent angular momentum:\n",
    "\n",
    "$$\n",
    "|\\mathbf{L}| = |\\mathbf{r} \\times \\mathbf{p}| = |mr^2\\dot{\\phi}|\n",
    "$$\n",
    "\n",
    "In the interest of time we won't go through the whole calculation to arrive at this, but this is handy to know."
   ]
  },
  {
   "cell_type": "markdown",
   "metadata": {},
   "source": [
    "### (time permitting) Non-Inertial Frames\n",
    "\n",
    "Broadly speaking, non-inertial frames are frames that undergo some sort of acceleration. In general for inertial frame $A$ and non-inertial frame $B$, we can write:\n",
    "\n",
    "$$r_B = r_A - r_{B/A}$$\n",
    "\n",
    "$$v_B = v_A - v_{B/A}$$\n",
    "\n",
    "as before, as well as:\n",
    "\n",
    "$$\\ddot{r}_B = \\ddot{r}_{A} - \\ddot{r}_{B/A}$$\n",
    "\n",
    "Interestingly, this means a new (ficticious) force has sprung into being, equal to $-m\\ddot{r}_{B/A}$ ! This lets us write newton's second law for frame B as: \n",
    "\n",
    "$$m\\ddot{r}_{B} = F -m\\ddot{r}_{B/A}$$"
   ]
  },
  {
   "cell_type": "markdown",
   "metadata": {},
   "source": [
    "### Leaning on a bus problem\n",
    "\n",
    "Suppose you're standing on a bus that is accelerating forward with constant acceleration $r_{B/A}$. If we approximate you as a pendulum, what angle should you lean at so you can stay at equillibrium without having to exert any force to stay at that angle?\n",
    "\n",
    "**&#9989; Do this** \n",
    "\n",
    "Solve this problem using the the as a non-inertial frame. [Solution](https://raw.githubusercontent.com/valentine-alia/phy415fall23/main/content/assets/bus_soln.pdf)"
   ]
  },
  {
   "cell_type": "markdown",
   "metadata": {},
   "source": [
    "### Forces in Rotating Frames\n",
    "\n",
    "For intertial frame A and non-inertial, rotating frame B, rotating at an angular velocity of $\\mathbf{\\Omega}$ relative to A, we can write the second law as:\n",
    "\n",
    "$$\n",
    "m\\ddot{\\mathbf{r}} = \\mathbf{F} + 2m\\dot{\\mathbf{r}}\\times \\mathbf{\\Omega} + m (\\mathbf{\\Omega}\\times \\mathbf{r}) \\times \\mathbf{\\Omega}\n",
    "$$\n",
    "\n",
    "Where $\\mathbf{F}$ is any \"standard\" forces from inertial frames, $2m\\dot{\\mathbf{r}}\\times \\mathbf{\\Omega}$ is the Coriolis force, and $m (\\mathbf{\\Omega}\\times \\mathbf{r}) \\times \\mathbf{\\Omega}$ is the centrifugal force."
   ]
  }
 ],
 "metadata": {
  "language_info": {
   "name": "python"
  }
 },
 "nbformat": 4,
 "nbformat_minor": 2
}