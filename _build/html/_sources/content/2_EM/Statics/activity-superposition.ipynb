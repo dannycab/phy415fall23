{
 "cells": [
  {
   "cell_type": "markdown",
   "metadata": {},
   "source": [
    "# 28 Sep 23 - Activity: Superposition of Fields\n",
    "\n",
    "Outline:\n",
    "- Coulomb's Law - setup integrals; describe process\n",
    "- Activity - setup integral for ring of charge; then for disk of charge\n",
    "- Magnetic Field - Biot-Savart Law - setup integrals; describe process (real pain, so we don't often use it)\n",
    "- Ampere's Law\n",
    "- Activity - setup integral for a thick wire\n",
    "- Activity - chunks of charge in code\n"
   ]
  },
  {
   "cell_type": "markdown",
   "metadata": {},
   "source": [
    "## Coulomb's Law\n",
    "\n",
    "We've seen that the electric field of a set of point charges if given by the vector sum of the contributions from each charge:\n",
    "\n",
    "$$\\mathbf{E}(\\mathbf{r}) = \\sum_i \\frac{1}{4\\pi\\epsilon_0} \\frac{q_i}{(\\mathbf{r}-\\mathbf{r}'_i)^3} (\\mathbf{r}-\\mathbf{r}'_i)$$\n",
    "\n",
    "where $\\mathbf{r}'_i$ is the location of the charge relative to the origin, and $\\mathbf{r}$ is the location of the field point relative to the origin. This **net electric field** is the result of the **superposition** of the electric fields from each charge. But here the charges are discrete, we can identify each charge uniquely in terms of it's charge and location. This concept can be abstracted to a continuous distribution of charge, where we can identify the charge at any point in space by the charge density $\\rho(\\mathbf{r})$. In this case, the charge is not a point charge, but rather a small chunk of charge that we model as a point charge. That is, we can write the electric field contributed by that chunk $dq$ as:\n",
    "\n",
    "$$d\\mathbf{E}(\\mathbf{r}) = \\frac{1}{4\\pi\\epsilon_0} \\frac{dq}{(\\mathbf{r}-\\mathbf{r}')^3} (\\mathbf{r}-\\mathbf{r}')$$\n",
    "\n",
    "where we have treated the chunk as a point charge. In the generic case, that chunk is given by $dq = \\rho(\\mathbf{r})dV$ so that,\n",
    "\n",
    "$$d\\mathbf{E}(\\mathbf{r}) = \\frac{1}{4\\pi\\epsilon_0} \\frac{\\rho(\\mathbf{r})dV}{(\\mathbf{r}-\\mathbf{r}')^3} (\\mathbf{r}-\\mathbf{r}')$$\n",
    "\n",
    "The net electric field is then given by the integral over the entire charge distribution:\n",
    "\n",
    "$$\\mathbf{E}(\\mathbf{r}) = \\iiint \\frac{1}{4\\pi\\epsilon_0} \\frac{\\rho(\\mathbf{r}')dV}{(\\mathbf{r}-\\mathbf{r}')^3} (\\mathbf{r}-\\mathbf{r}')$$\n",
    "\n",
    "This gives a general prescription for finding the electric field in most situations (i.e., where the integral converges). But this appraoch is only analytically tractable in situations where we are able to find anti-derivatives of the integrands that we construct. There are many, many techniques to evaluating tricky integrals. But in the end, we often turn to technologies like Mathematica, [Wolfram Alpha](https://www.wolframalpha.com/), or [SageMath](https://www.sagemath.org/) to do the heavy lifting for us. Numerical methods are also very useful, and we already used a solver for 2D problems."
   ]
  },
  {
   "cell_type": "markdown",
   "metadata": {},
   "source": [
    "### Activity: Ring of Charge\n",
    "\n",
    "Consider the ring (radius, $R$) with a uniform linear charge density $\\lambda = \\frac{Q}{2\\pi R}$. that is placed with it's center on the plane as shown below.\n",
    "\n",
    "![Ring of charge diagram](https://blog.cupcakephysics.com/assets/images/2015-06-21/ring.png)\n",
    "\n",
    "**&#9989; Do this** \n",
    "\n",
    "1. Write an expression for the contribution of an arbitrary charge element to the electric field at the location shown $\\mathbf{r} = \\langle 0,0,z \\rangle$. What is charge density and what is the charge element?\n",
    "2. Rewrite the expression as an integral over the relevant charge distribution. What are the limits of integration? \n",
    "3. (if you want) Use a symbolic integrator to evaluate the integral. What is the electric field at the location shown? (You can use [Wolfram Alpha](https://www.wolframalpha.com/) or try Python's own symbolic toolkit [SymPy](https://www.sympy.org/en/index.html))"
   ]
  },
  {
   "cell_type": "code",
   "execution_count": 2,
   "metadata": {},
   "outputs": [],
   "source": [
    "import numpy as np\n",
    "import matplotlib.pyplot as plt\n",
    "## your code to plot the electric field expression"
   ]
  },
  {
   "cell_type": "markdown",
   "metadata": {},
   "source": [
    "## Magnetostatic Analogs\n",
    "\n"
   ]
  },
  {
   "cell_type": "markdown",
   "metadata": {},
   "source": []
  }
 ],
 "metadata": {
  "kernelspec": {
   "display_name": "teaching",
   "language": "python",
   "name": "teaching"
  },
  "language_info": {
   "codemirror_mode": {
    "name": "ipython",
    "version": 3
   },
   "file_extension": ".py",
   "mimetype": "text/x-python",
   "name": "python",
   "nbconvert_exporter": "python",
   "pygments_lexer": "ipython3",
   "version": "3.9.16"
  },
  "orig_nbformat": 4
 },
 "nbformat": 4,
 "nbformat_minor": 2
}
