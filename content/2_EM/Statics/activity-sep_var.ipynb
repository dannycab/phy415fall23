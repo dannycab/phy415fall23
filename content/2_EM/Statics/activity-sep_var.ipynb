{
 "cells": [
  {
   "cell_type": "markdown",
   "metadata": {},
   "source": [
    "# 3 Oct 23 - Activity: PDEs and Separation of Variables\n",
    "\n",
    "As we have realized, solving field problems using vector equations is not always the best way to go about solving our problems. The integrals can be difficult to set up and the equations might be difficult, if not, impossible to solve (e.g., because there is no anti-derivative for the integrand). While we might not fully eliminate the need for vector equations, in electrostatic situations, we can posit the [electric potential](https://en.wikipedia.org/wiki/Electric_potential), $\\Phi$. \n",
    "\n",
    "**We changed to using $\\Phi$ because there are also things like $dV$ -- volume elements.** \n",
    "\n",
    "The scalar field, $\\Phi(\\mathbf{r})$ is given by Poisson's equation as it is related to the electric field by the gradient.\n",
    "\n",
    "$$\\nabla \\cdot \\vec{E} = \\frac{\\rho}{\\epsilon_0} \\rightarrow \\vec{E} = -\\nabla \\Phi$$\n",
    "\n",
    "$$\\nabla \\cdot (-\\nabla \\Phi) = -\\nabla^2 \\Phi = \\frac{\\rho}{\\epsilon_0}$$\n",
    "\n",
    "$$\\nabla^2 \\Phi = -\\frac{\\rho}{\\epsilon_0}$$\n",
    "\n",
    "As you might have seen, there is an integral form of the electric potential. This is built up from the description that we have seen for the electric field of a point charge.\n",
    "\n",
    "$$\\vec{E}_{pt} = \\frac{1}{4\\pi\\epsilon_0}\\frac{q}{r^2}\\hat{r} \\rightarrow \\Phi_{pt} = \\frac{1}{4\\pi\\epsilon_0}\\frac{q}{r}$$\n",
    "\n",
    "Or more generally, for a continuous charge distribution,\n",
    "\n",
    "$$d\\Phi = \\frac{1}{4\\pi\\epsilon_0}\\frac{\\rho dV}{|\\mathbf{r}-\\mathbf{r}'|}$$\n",
    "$$\\Phi = \\frac{1}{4\\pi\\epsilon_0}\\iiint\\frac{\\rho dV}{|\\mathbf{r}-\\mathbf{r}'|}$$\n",
    "\n",
    "Much like we have done with the electric field, one can set up a forward integral formulation of the electric potential and add up the elements to find the total potential. Let's use Python [sympy] library to illustrate this. We start with the point charge. Here $k=\\frac{1}{4\\pi\\epsilon_0}$. \n",
    "\n",
    "First, we show how to form an expression for the point charge potential.\n",
    "\n",
    "#### Point Charge Potential"
   ]
  },
  {
   "cell_type": "code",
   "execution_count": 2,
   "metadata": {},
   "outputs": [
    {
     "data": {
      "image/png": "[encoded data removed]",
      "text/latex": [
       "$\\displaystyle \\frac{k q}{r}$"
      ],
      "text/plain": [
       "k⋅q\n",
       "───\n",
       " r "
      ]
     },
     "metadata": {},
     "output_type": "display_data"
    }
   ],
   "source": [
    "from sympy import symbols, latex, init_printing, Rational\n",
    "from sympy.interactive import printing\n",
    "\n",
    "# Setup LaTeX printing\n",
    "init_printing(use_latex=True)\n",
    "\n",
    "# Define variables\n",
    "k, q, r = symbols('k q r')\n",
    "\n",
    "# Define electric potential equation for point charge\n",
    "V = k * q / r\n",
    "\n",
    "# Print the equation in LaTeX format\n",
    "display(V)"
   ]
  },
  {
   "cell_type": "markdown",
   "metadata": {},
   "source": [
    "#### Potential of a charged rod\n",
    "\n",
    "It is common to compute the electric potential of a charged rod along a line perpendicular to it along the y-axis. Let's do this for a rod of length $L$ with a uniform charge density, $\\lambda$. We will assume that the rod is centered on the origin and that the axis of the rod is aligned with the $x$-axis. We can treat a tiny piece of the rod like a point charge and add things up!\n",
    "\n",
    "Let's find the electric potential at $\\langle 0,y,0 \\rangle$."
   ]
  },
  {
   "cell_type": "code",
   "execution_count": 8,
   "metadata": {},
   "outputs": [
    {
     "data": {
      "image/png": "[encoded data removed]",
      "text/latex": [
       "$\\displaystyle 2 k \\lambda \\operatorname{asinh}{\\left(\\frac{L}{2 y} \\right)}$"
      ],
      "text/plain": [
       "           ⎛ L ⎞\n",
       "2⋅k⋅λ⋅asinh⎜───⎟\n",
       "           ⎝2⋅y⎠"
      ]
     },
     "metadata": {},
     "output_type": "display_data"
    }
   ],
   "source": [
    "from sympy import integrate, sqrt\n",
    "\n",
    "# Define more variables\n",
    "L, lambda_, y, x = symbols('L lambda y x')\n",
    "\n",
    "# Define limits of integration for a rod of length L centered at the origin\n",
    "lower_limit = -L / 2\n",
    "upper_limit = L / 2\n",
    "\n",
    "# Define the integrand for electric potential due to a uniformly charged rod\n",
    "integrand = (lambda_ * k) / sqrt(x**2 + y**2)\n",
    "\n",
    "# Perform the integration\n",
    "V_rod = integrate(integrand, (x, lower_limit, upper_limit))\n",
    "\n",
    "# Print the result in LaTeX format\n",
    "display(V_rod)"
   ]
  },
  {
   "cell_type": "markdown",
   "metadata": {},
   "source": [
    "What's nice is that we can change the problem quickly byt changing the location or the distribution. For example, to find the field on the end of the rod, we have to change the integrand a bit. Let's assume we are looking at the end of the rod at $\\langle x_0,0,0 \\rangle$."
   ]
  },
  {
   "cell_type": "code",
   "execution_count": 9,
   "metadata": {},
   "outputs": [
    {
     "data": {
      "image/png": "[encoded data removed]",
      "text/latex": [
       "$\\displaystyle - k \\lambda \\log{\\left(- L - 2 x_{0} + 2 \\sqrt{\\frac{L^{2}}{4} + L x_{0} + x_{0}^{2}} \\right)} + k \\lambda \\log{\\left(L - 2 x_{0} + 2 \\sqrt{\\frac{L^{2}}{4} - L x_{0} + x_{0}^{2}} \\right)}$"
      ],
      "text/plain": [
       "         ⎛                   _________________⎞          ⎛                  __\n",
       "         ⎜                  ╱  2              ⎟          ⎜                 ╱  \n",
       "         ⎜                 ╱  L             2 ⎟          ⎜                ╱  L\n",
       "- k⋅λ⋅log⎜-L - 2⋅x₀ + 2⋅  ╱   ── + L⋅x₀ + x₀  ⎟ + k⋅λ⋅log⎜L - 2⋅x₀ + 2⋅  ╱   ─\n",
       "         ⎝              ╲╱    4               ⎠          ⎝             ╲╱    4\n",
       "\n",
       "_______________⎞\n",
       "2              ⎟\n",
       "             2 ⎟\n",
       "─ - L⋅x₀ + x₀  ⎟\n",
       "               ⎠"
      ]
     },
     "metadata": {},
     "output_type": "display_data"
    }
   ],
   "source": [
    "# Define more variables\n",
    "x0 = symbols('x0')\n",
    "\n",
    "# Define the integrand for electric potential due to a uniformly charged rod\n",
    "integrand = (lambda_ * k) / sqrt((x-x0)**2)\n",
    "\n",
    "# Perform the integration\n",
    "V_rod_2 = integrate(integrand, (x, lower_limit, upper_limit))\n",
    "\n",
    "# Print the result in LaTeX format\n",
    "display(V_rod_2)"
   ]
  },
  {
   "cell_type": "markdown",
   "metadata": {},
   "source": [
    "However, this approach is typically not the best way to solve electric potential problems because they often only work for specific geometries and at certain locations. For example, consider the general location $\\langle x_0,y_0,0 \\rangle$. We can still use the integral approach, but we find that our solution is becoming more complicated and harder to interpret easily. It is also the case that we can (quite easily) form integrals that are not possible to compute analytically."
   ]
  },
  {
   "cell_type": "code",
   "execution_count": 11,
   "metadata": {},
   "outputs": [
    {
     "data": {
      "image/png": "[encoded data removed]",
      "text/latex": [
       "$\\displaystyle - k \\lambda \\operatorname{asinh}{\\left(\\frac{- \\frac{L}{2} - x_{0}}{y_{0}} \\right)} + k \\lambda \\operatorname{asinh}{\\left(\\frac{\\frac{L}{2} - x_{0}}{y_{0}} \\right)}$"
      ],
      "text/plain": [
       "           ⎛  L     ⎞            ⎛L     ⎞\n",
       "           ⎜- ─ - x₀⎟            ⎜─ - x₀⎟\n",
       "           ⎜  2     ⎟            ⎜2     ⎟\n",
       "- k⋅λ⋅asinh⎜────────⎟ + k⋅λ⋅asinh⎜──────⎟\n",
       "           ⎝   y₀   ⎠            ⎝  y₀  ⎠"
      ]
     },
     "metadata": {},
     "output_type": "display_data"
    }
   ],
   "source": [
    "# Define more variables\n",
    "y0 = symbols('y0')\n",
    "\n",
    "# Define the integrand for electric potential due to a uniformly charged rod\n",
    "integrand = (lambda_ * k) / sqrt((x-x0)**2+(y0)**2)\n",
    "\n",
    "# Perform the integration\n",
    "V_rod_3 = integrate(integrand, (x, lower_limit, upper_limit))\n",
    "\n",
    "# Print the result in LaTeX format\n",
    "display(V_rod_3)"
   ]
  },
  {
   "cell_type": "markdown",
   "metadata": {},
   "source": [
    "\n",
    "Instead, we will use the differential form of the electric potential where there are no charges, but the boundaries are set to a given potential. This is called **Laplace's equation**. \n",
    "\n",
    "*Note that regardless of the approach to find the electric field we will need to eventually compute the gradient of the electric potential.* We will need to do that numerically later.\n"
   ]
  },
  {
   "cell_type": "markdown",
   "metadata": {},
   "source": [
    "\n",
    "## Laplace's Equation\n",
    "\n",
    "*Numerical solution to Laplace's equation on an annulus*\n",
    "![Laplace's Equation](https://upload.wikimedia.org/wikipedia/commons/thumb/c/cd/Laplace%27s_equation_on_an_annulus.svg/800px-Laplace%27s_equation_on_an_annulus.svg.png)\n",
    "\n",
    "\n",
    "While Poisson's equation describes how the value of the local Laplacian of the electric potential is directly related to the local electric potential, there are many places where there are no charges. For example, it's common to solve problems where the **boundary conditions** are set to a given potential or with a certain amount of charge, and the remaining space is empty (or free space). This doesn't mean that an electric field is not present in that empty space, but rather that there are no charges. In this case, the problem that are solving is called **Laplace's equation** - a special case of Poisson's equation where $\\rho = 0$.\n",
    "\n",
    "$$\\nabla^2 \\Phi = 0$$\n",
    "\n",
    "There are two important ways to go about solving these problems. The first is using separation of variables, which is a common analytical technique. The second is to use numerical methods that we will discuss later in the course. Both of these methods rely on the the following properties of the solutions to Laplace's equation.\n",
    "\n",
    "### Properties of Solutions to Laplace's Equation\n",
    "\n",
    "1. $\\Phi$ has no local maxima or minima except at boundaries\n",
    "2. $\\Phi$ is smooth and continuous everywhere\n",
    "3. $\\Phi$ is single valued\n",
    "4. $\\Phi$ at a location is the average of the values of $\\Phi$ over the surrounding space\n",
    "5. $\\Phi$ is unique. There is only one solution to Laplace's equation for a given set of boundary conditions."
   ]
  },
  {
   "cell_type": "markdown",
   "metadata": {},
   "source": [
    "### Activity: The Infinite Gutter\n",
    "\n",
    "![Infinite Gutter](https://i.stack.imgur.com/nHF7a.jpg)\n",
    "\n",
    "Consider a metal gutter that extends into infinitely in the $z$ direction. The gutter width in the $y$ direction is $a$. It is placed in the $y-z$ plane and the $+x$ direction is not constrained and extends to infinity (both the wall at $y=0$ and $y=a$). So that Laplace's equation applies in the region:\n",
    "\n",
    "1. any $z$ value\n",
    "2. $x > 0$\n",
    "3. $0 < y < a$\n",
    "\n",
    "#### Boundary Conditions\n",
    "\n",
    "What uniquely determines our solution to Laplace's equation are the boundary conditions. For this case, we are going to set all the conditions to zero except one to illustrate the way we find those unique solutions. The boundary conditions are:\n",
    "\n",
    "1. $\\Phi(x>0, y=0) = 0$ Grounded\n",
    "2. $\\Phi(x>0, y=a) = 0$ Grounded\n",
    "3. $\\Phi(x=0, 0 < y < a) = V_0(y)$ Set potential at the bottom of the gutter\n",
    "4. $\\Phi(x\\rightarrow \\infty,0<y<a) = 0$ Potential goes to zero at infinity\n",
    "\n",
    "Because we have infinite extent in the $z$ direction, we don't need to solve for that direction. We can assume the potential looks the same for every slice of the $x-y$ plane in the region. This means we can simplify our approach:\n",
    "\n",
    "$$\\nabla^2 \\Phi = \\nabla^2 \\Phi(x,y) = 0 \\longrightarrow \\Phi(x,y) = X(x)Y(y)$$\n",
    "\n",
    "**&#9989; Do this** \n",
    "\n",
    "1. Using the proposed solution, use separation of variables to find ODEs for $X(x)$ and $Y(y)$.\n",
    "2. Solve the ODEs for $X(x)$ and $Y(y)$ in general. How do you choose which general solution to use in which direction?\n",
    "3. Apply the boundary conditions to solve for the constants in the general solutions. \n",
    "\n",
    "**Note that applying the boundary condition for $x=a$ will result in an equation of the form $V(0,y) = C'\\sin(ky)$ where $C'$ and $k$ are some constants.** This is a new thing that we running up against. It requires that we use Fourier's trick to solve for the appropriate constants. This will lead us into [orthgonal functions](https://en.wikipedia.org/wiki/Orthogonal_functions) and [Fourier series](https://en.wikipedia.org/wiki/Fourier_series)."
   ]
  },
  {
   "cell_type": "markdown",
   "metadata": {},
   "source": [
    "#### Fourier's Trick\n",
    "\n",
    "Fourier's trick is just what results from integrated orthonormal functions over the domain of importance. For example, the most common version of this approach is to integrate the product of two sine functions over the domain $[0,\\pi]$ or the equivalent in the case of a length scale $a$.\n",
    "\n",
    "$$\\int_0^a \\sin\\left(\\dfrac{n\\pi y}{a}\\right) \\sin\\left(\\dfrac{m\\pi y}{a}\\right) dy = \\begin{cases} 0 & n \\neq m \\\\ \\dfrac{a}{2} & n = m \\end{cases}$$\n",
    "\n",
    "We have shown that the final form of the undetermined boundary condition is:\n",
    "\n",
    "$$\\Phi(0,y) = \\sum_n C_n \\sin\\left(\\dfrac{n\\pi y}{a}\\right)$$\n",
    "\n",
    "Let's multiple both sides by $\\sin\\left(\\dfrac{m\\pi y}{a}\\right)$ and integrate over the domain $[0,a]$.\n",
    "\n",
    "$$\\int_0^a \\Phi(0,y) \\sin\\left(\\dfrac{m\\pi y}{a}\\right) dy = \\sum_n C_n \\int_0^a \\sin\\left(\\dfrac{n\\pi y}{a}\\right) \\sin\\left(\\dfrac{m\\pi y}{a}\\right) dy$$\n",
    "\n",
    "The left hand side is only non-zero when $n=m$, so we use the [Kronecker delta](https://en.wikipedia.org/wiki/Kronecker_delta) to simplify the right hand side.\n",
    "\n",
    "$$\\int_0^a \\Phi(0,y) \\sin\\left(\\dfrac{m\\pi y}{a}\\right) dy = \\sum_n C_n \\dfrac{a}{2}\\delta_{nm}$$\n",
    "\n",
    "We further simplify by noticing that the right hand side is only non-zero when $n=m$, so that the requirement is that the indicies are equal.\n",
    "\n",
    "$$\\int_0^a \\Phi(0,y) \\sin\\left(\\dfrac{m\\pi y}{a}\\right) dy = C_m \\dfrac{a}{2}$$\n",
    "\n",
    "Turn the equation around to solve for $C_m$, and we have an integral expression.\n",
    "\n",
    "$$C_m = \\dfrac{2}{a}\\int_0^a \\Phi(0,y) \\sin\\left(\\dfrac{m\\pi y}{a}\\right) dy$$\n",
    "\n",
    "**&#9989; Do this**\n",
    "1. Let $\\Phi(0,y) = V_0$, which is the potential at the bottom of the gutter. Use the integral expression to find $C_m$.\n",
    "2. Combined with your prior work, write down the solution for the electric potential in the gutter. What do you notice about the solution? Can you visualize it?"
   ]
  },
  {
   "cell_type": "markdown",
   "metadata": {},
   "source": [
    "### Visualizing the Solution\n",
    "\n",
    "We often find from these analyses that we produce infinite series solutions like this for the potential (note this is for a different problem):\n",
    "\n",
    "$$\\Phi(x,y) = \\sum_{n=1,3,5,\\dots}^{\\infty} \\dfrac{4V_0}{n\\pi} \\sin\\left(\\dfrac{n\\pi x}{a}\\right) e^{-\\frac{n\\pi y}{a}}$$\n",
    "\n"
   ]
  },
  {
   "cell_type": "markdown",
   "metadata": {},
   "source": [
    "\n",
    "This solution is for the domain $0< x< a$ and infinite $y$ extent. It's a 90 degree-turned version of the problem you solved earlier.\n",
    "\n",
    "**&#9989; Do this**\n",
    "\n",
    "Create a 3D figure of the electric potential of this situation. \n",
    "\n",
    "1. You will need to create a mesh grid of $x$ and $y$ values.\n",
    "2. You will need to create a function that sums the series for a given $x$ and $y$ value.\n",
    "3. You will need to truncate the series after some terms (you can't sum to infinity).\n",
    "4. You will need to plot the result using `plot_surface` from `matplotlib`."
   ]
  },
  {
   "cell_type": "code",
   "execution_count": 6,
   "metadata": {},
   "outputs": [],
   "source": [
    "import numpy as np\n",
    "import matplotlib.pyplot as plt"
   ]
  },
  {
   "cell_type": "code",
   "execution_count": null,
   "metadata": {},
   "outputs": [],
   "source": []
  }
 ],
 "metadata": {
  "kernelspec": {
   "display_name": "teaching",
   "language": "python",
   "name": "teaching"
  },
  "language_info": {
   "codemirror_mode": {
    "name": "ipython",
    "version": 3
   },
   "file_extension": ".py",
   "mimetype": "text/x-python",
   "name": "python",
   "nbconvert_exporter": "python",
   "pygments_lexer": "ipython3",
   "version": "3.9.16"
  },
  "orig_nbformat": 4
 },
 "nbformat": 4,
 "nbformat_minor": 2
}
