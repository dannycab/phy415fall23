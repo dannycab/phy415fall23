{
 "cells": [
  {
   "cell_type": "markdown",
   "metadata": {},
   "source": [
    "# 3 Oct 23 - Notes: Electric Potential - a scalar field\n",
    "\n",
    "We've seen that there's a lot of challenges with solving field problems where the fields are vectors and described by partial differential equations. The electric and magnetic field are vector fields that have a size and direction are every points in space. They are described by a set of 4 partial differential equations, [Maxwell's Equations](https://en.wikipedia.org/wiki/Maxwell%27s_equations). In Cartesian coordinates, these equations are described by 12 coupled partial differential equations.\n",
    "\n",
    "## Electrostatics\n",
    "\n",
    "In electrostatic situations, where charges don't move, we've seen that the equations that describe the electric field are simplified to:\n",
    "\n",
    "$$\\nabla \\cdot \\vec{E} = \\frac{\\rho}{\\epsilon_0}$$\n",
    "\n",
    "$$\\nabla \\times \\vec{E} = 0$$\n",
    "\n",
    "In general, in Cartesian coordinates, these are still six partial differential equations. However, the electric field is [curl-less](https://en.wikipedia.org/wiki/Curl_(mathematics)), so we can write it as the gradient of a scalar field, $V$:\n",
    "\n",
    "$$\\vec{E}(x,y,z) = -\\nabla V(x,y,z)$$\n",
    "\n",
    "We might prefer to work with this scalar field, $V$, rather than the vector field, $\\vec{E}$, because it is a simpler object to work with. There's a number of tools we can use to find the potential and then we take the gradient to find the electric field.\n",
    "\n",
    "### Electric Potential\n",
    "\n",
    "Parth G has a really nice video on he conceptual elements of electric potential, we will conern ourselves with more mathematical aspects as we move forward.\n",
    "\n",
    "[![Electric Potential](https://markdown-videos-api.jorgenkh.no/youtube/7rjAtuwxrEA?width=720&height=405)](https://www.youtube.com/watch?v=7rjAtuwxrEA)\n",
    "\n",
    "\n",
    "The [electric potential](https://en.wikipedia.org/wiki/Electric_potential) is the scalar field that we have developed. One thing to note about it, is that it is only defined up to a constant. That is because when we take the gradient, and constant will drop out. This is really important when stitching together solutions from multiple sources. They need to all have the same \"zero of potential.\"\n",
    "\n",
    "With the definition, $\\vec{E}(x,y,z) = -\\nabla V(x,y,z)$, we can conclude the following:\n",
    "\n",
    "$$\\nabla \\cdot \\vec{E} = \\nabla \\cdot (-\\nabla V) = -\\nabla^2 V = \\frac{\\rho}{\\epsilon_0}$$\n",
    "\n",
    "where $\\nabla^2$ is the [Laplacian operator](https://en.wikipedia.org/wiki/Laplace_operator). This is [Poisson's Equation](https://en.wikipedia.org/wiki/Poisson%27s_equation), a well-studied second order partial differential equation. When used in electrostatics, it is a central equation for solving for the electric potential. In addition, we can integrate to show that:\n",
    "\n",
    "$$\\Delta V = -\\int \\vec{E} \\cdot d\\vec{l}$$\n",
    "\n",
    "where the line integral is taken along a path from one point to another. For the electric field, this is independent of path, so we can write:\n",
    "\n",
    "$$\\Delta V = -\\int_{\\vec{r}_1}^{\\vec{r}_2} \\vec{E} \\cdot d\\vec{l} = V(\\vec{r}_2) - V(\\vec{r}_1)$$\n",
    "\n",
    "And\n",
    "\n",
    "$$\\oint \\vec{E} \\cdot d\\vec{l} = 0$$\n",
    "\n",
    "which is a direct results of applying Stokes' Theorem to the curl-less electric field, and indicates that the electric field is conservative."
   ]
  },
  {
   "cell_type": "markdown",
   "metadata": {},
   "source": [
    "## Getting to Laplace's Equation\n",
    "\n",
    "Poisson's Equation is a description of a scalar potential (e.g., the electric potential) and how it relates to sources of the potential (e.g., charges). This is a **local** description of the field. At every point, the Laplacian can be computed (for well-behaved functions) and it indicates a source or lack of sources. For example, in empty space with no charges, the Laplacian is zero everywhere. \n",
    "\n",
    "So if we imagine setting up charges far from the place we are interested in finding the electric potential, we have an equation that is describes that space.\n",
    "\n",
    "$$\\nabla^2 V = 0$$\n",
    "\n",
    "This is Laplace's equation and is a commonly occurring equation in physics. In fact, as we saw here, it shows up anytime we find local situations where the charges are absent. So the idea is that charges are far away setting the potential at the boundaries (hence, calling these **[boundary value problems](https://en.wikipedia.org/wiki/Boundary_value_problem)**). The idea is that the PDE is solved in the region of interest often giving some general solution in the form of an infinite sum. The boundary conditions are then used to determine the coefficients in the solution, giving a unique solution. Because Laplace's equation is a linear PDE, the superposition principle applies, so we can add solutions together to get new solutions."
   ]
  },
  {
   "cell_type": "markdown",
   "metadata": {},
   "source": [
    "## Additional Resources\n",
    "\n",
    "### Videos Derivations\n",
    "\n",
    "Steve Brunton at Washington has some really great videos on the derivations associated with PDEs like those above.\n",
    "\n",
    "#### Possion's and Laplace's Equation\n",
    "\n",
    "[![Possion's and Laplace's Equation](https://markdown-videos-api.jorgenkh.no/youtube/nmvs0vrBT18?width=720&height=405)](https://www.youtube.com/watch?v=nmvs0vrBT18)\n",
    "\n",
    "#### Separation of Variables\n",
    "[![Separation of Variables](https://markdown-videos-api.jorgenkh.no/youtube/VjWtMl6vQ3Q?width=720&height=405)](https://www.youtube.com/watch?v=VjWtMl6vQ3Q)\n",
    "\n",
    "### Handwritten Notes\n",
    " - [Electric Potential](../../assets/notes/Notes-Electric_Potential.pdf)\n",
    " - [Separation of Variables](../../assets/notes/Notes-Separation_of_Variables_Cartesian.pdf)\n",
    " - [Separation of Variables (Spherical Coordinates)](../../assets/notes/Notes-Separation_of_Variables_Spherical.pdf)\n",
    " - [Multipole Expansion](../../assets/notes/Notes-Multipole_Expansion.pdf)"
   ]
  },
  {
   "cell_type": "markdown",
   "metadata": {},
   "source": []
  }
 ],
 "metadata": {
  "kernelspec": {
   "display_name": "teaching",
   "language": "python",
   "name": "teaching"
  },
  "language_info": {
   "name": "python",
   "version": "3.9.16"
  },
  "orig_nbformat": 4
 },
 "nbformat": 4,
 "nbformat_minor": 2
}
