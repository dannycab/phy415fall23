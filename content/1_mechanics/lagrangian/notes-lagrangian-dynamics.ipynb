{
 "cells": [
  {
   "cell_type": "markdown",
   "metadata": {},
   "source": [
    "Book Reading: \n",
    "- Any Classical Mechanics Book Section on Lagrangian Dynamics\n",
    "- [[Section 2.1 and 2.2 of Shapiro's Book is online]](https://www.physics.rutgers.edu/~shapiro/507/book.pdf)\n",
    "\n",
    "# 5 Sept 23 - Notes: Lagrangian Dynamics\n",
    "\n",
    "[Newtonian Mechanics](https://en.wikipedia.org/wiki/Newton%27s_laws_of_motion) is an incredibly useful model of the natural world. In fact, it wasn't until the mid 1970s that we were able to truly [test Einstein's gravity as a true replacement](https://en.wikipedia.org/wiki/Tests_of_general_relativity) for Newton. That being said, for most terrestrial situations (macroscopic objects moving at low speeds), Newton's mechanics is very good. However, the problem with Newton is that it requires a few things:\n",
    "\n",
    "1. We must be able identify each interaction on the object or model an average behavior from many littler interactions (e.g., models of friction vs. detailed E&M forces)\n",
    "2. We must be able to mathematically describe the size and direction of the interaction at all times we want to model\n",
    "3. We must be able to vectorially add the interactions to produce the net force $\\sum_i \\vec{F}_i = \\vec{F}_{net}$.\n",
    "\n",
    "In many cases, we can do this. But consider the picture below of a bead sliding inside a cone. How would you write down the contact force between the cone and the bead for all space and time?\n",
    "\n",
    "![Cone](../../assets/cylindrical_cone_mass.jpg)\n",
    "\n"
   ]
  },
  {
   "cell_type": "markdown",
   "metadata": {},
   "source": [
    "Enter the [Lagrangian Mechanics](https://en.wikipedia.org/wiki/Lagrangian_mechanics), an equivalent description of Newton's mechanics developed through several advances in physics and mathematics in the 17th and 18th centuries. Some of the major contributors included Newton, Gottfried Wilhelm Leibniz, Pierre Louis Moreau de Maupertuis, Guillaume de l'Hôpital, Jacques Bernoulli, Jean Bernoulli, and Jean D'Alembert. This period of the development of mechanics was foundational to the development of concepts like the [action](https://en.wikipedia.org/wiki/Action_(physics)) and [phase space](https://en.wikipedia.org/wiki/Phase_space) as well as approaches like [variational analysis](https://en.wikipedia.org/wiki/Calculus_of_variations), which formed the basis for [dynamical systems](https://en.wikipedia.org/wiki/Dynamical_system) (phase space describes real motion), [quantum mechanics](https://en.wikipedia.org/wiki/Quantum_mechanics) (quantize the action), and [perturbation theory](https://en.wikipedia.org/wiki/Perturbation_theory) (approximate answers can be iteratively sought)."
   ]
  },
  {
   "cell_type": "markdown",
   "metadata": {},
   "source": [
    "This analysis is grounded in optimization or rather extremization. The idea is as follows:\n",
    "\n",
    "1. Consider all potential paths a system can take through phase space\n",
    "2. Time each of them between the same two points in phase space\n",
    "3. The one that minimizes the action integral over that time/space is the one the system takes\n",
    "\n",
    "This might seem magical! But it's truly a deep connection to the energetics of the system, which limit the the relevant equations of motion by both the number of degrees of freedom (ways the system can move) and the constraints equation (things that influence the motion).\n",
    "\n",
    "Parth G. has a lovely video below about the basics of this."
   ]
  },
  {
   "cell_type": "markdown",
   "metadata": {},
   "source": [
    "[![](https://markdown-videos-api.jorgenkh.no/youtube/KpLno70oYHE?width=720&height=405)](https://inv.tux.pizza/watch?v=KpLno70oYHE)\n"
   ]
  },
  {
   "cell_type": "markdown",
   "metadata": {},
   "source": [
    "\n",
    "\n",
    "My notes go into detail on the development of the Lagrangian problem. But practice is the best approach.\n",
    "\n",
    "\n",
    "\n",
    "\n",
    "## Book Readings\n",
    "\n",
    "This reading is useful preparation for reminding yourself of Lagrangian Dynamics.\n",
    "\n",
    "* Any classical mechanics book you like! Taylor is a good one.\n",
    "* [Section 2.1 and 2.2 of Shapiro's Book](https://www.physics.rutgers.edu/~shapiro/507/book.pdf)\n",
    "* [A Google Book you can review](https://www.google.com/books/edition/A_Student_s_Guide_to_Lagrangians_and_Ham/ebTCAQAAQBAJ?hl=en&gbpv=1&dq=lagrangian+dynamics+book&printsec=frontcover)\n",
    "\n",
    "## Handwritten Notes\n",
    "\n",
    "Here are my handwritten notes on the Calculus of Variations and Lagrangian Mechanics.\n",
    "\n",
    "* [Calculus of Variations](../../assets/notes/Notes-Calculus_of_Variations.pdf)\n",
    "* [Lagrangian Dynamics](../../assets/notes/Notes-Lagrangian_Dynamics.pdf)\n",
    "* [Lagrangian Example](../../assets/notes/Notes-Lagrangian_Example.pdf)\n",
    "* [Lagrangian Example with Generalized Forces and Lagrange Multipliers](../../assets/notes/Notes-Lagrangian_Example_Gen_Force.pdf)\n",
    "\n",
    "## Video Resources\n",
    "\n",
    "If you are a feeling that you would like a little direct instruction on this, this lecture is great. Lots of examples!"
   ]
  },
  {
   "cell_type": "markdown",
   "metadata": {},
   "source": [
    "[![](https://markdown-videos-api.jorgenkh.no/youtube/zhk9xLjrmi4?width=720&height=405)](https://inv.tux.pizza/watch?v=zhk9xLjrmi4)\n"
   ]
  },
  {
   "cell_type": "markdown",
   "metadata": {},
   "source": []
  }
 ],
 "metadata": {
  "kernelspec": {
   "display_name": "teaching",
   "language": "python",
   "name": "teaching"
  },
  "language_info": {
   "codemirror_mode": {
    "name": "ipython",
    "version": 3
   },
   "file_extension": ".py",
   "mimetype": "text/x-python",
   "name": "python",
   "nbconvert_exporter": "python",
   "pygments_lexer": "ipython3",
   "version": "3.9.16"
  },
  "orig_nbformat": 4,
  "vscode": {
   "interpreter": {
    "hash": "4cde1c9ed8a683d36136dc08e8027575d08b07893b804429583e933d2fe93b0b"
   }
  }
 },
 "nbformat": 4,
 "nbformat_minor": 2
}
