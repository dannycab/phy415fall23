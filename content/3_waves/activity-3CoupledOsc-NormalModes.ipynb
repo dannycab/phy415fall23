{
 "cells": [
  {
   "cell_type": "markdown",
   "metadata": {},
   "source": [
    "# 11 Oct 22 - Activity: Normal Modes of 3 Coupled Oscillators\n",
    "\n",
    "Now that we have discussed and built some facility with Lagrangian dynamics, let's see how using it makes our study of normal modes much simpler than Newtonian mechanics. We will couple this analysis to solving an eigenvalue problem by guessing the form of the solutions. This technique is very common in theoretical physics with different guesses for the solution forms giving rise to different eigenvalue problems (e.g., [Bessel functions for 2D surface problems](https://en.wikipedia.org/wiki/Bessel_function) or [Hermite polynomials for the Quantum Harmonic Oscillator](https://en.wikipedia.org/wiki/Hermite_polynomials).\n",
    "\n",
    "## Three Coupled Oscillators\n",
    "\n",
    "Consider the setup below consisting of three masses connected by springs to each other. We intend to find the normal modes of the system by denoting each mass's displacement ($x_1$, $x_2$, and $x_3$).\n",
    "\n",
    "![3 Coupled Oscillators](../../assets/images/3_coupled_osc.png)"
   ]
  },
  {
   "cell_type": "markdown",
   "metadata": {},
   "source": [
    "## Finding the Normal Mode Frequencies\n",
    "\n",
    "**&#9989; Do this** \n",
    "\n",
    "This is not magic as we will see, it follows from our choices of solution. Here's the steps and what you might notice about them:\n",
    "\n",
    "1. Guess what the normal modes might look like? Write your guesses down; how should the masses move? (It's ok if you are not sure about all of them, try to determine one of them)\n",
    "2. Write down the energy for the whole system, $T$ and $U$ (We have done this before, but not for this many particles)\n",
    "3. Use the Euler-Lagrange Equation to find the equations of motion for $x_1$, $x_2$, and $x_3$. (We have done this lots, so make sure it feels solid)\n",
    "4. Reformulate the equations of motion as a matrix equation $\\ddot{\\mathbf{x}} = \\mathbf{A} \\mathbf{x}$. What is $\\mathbf{A}$? (We have done this, but only quickly, so take your time)\n",
    "5. Consider solutions of the form $Ce^{i{\\omega}t}$, plug that into $x_1$, $x_2$, and $x_3$ to show you get $\\mathbf{A}\\mathbf{x} = -\\omega^2 \\mathbf{x}$. (We have not done this, we just assumed it works! It's ok if this is annoying, we only have to show it once.)\n",
    "6. Find the normal mode frequencies by taking the determinant of $\\mathbf{A} - \\mathbf{I}\\lambda$. Note that this produces the following definition: $\\lambda = -\\omega^2$ (We have not done this together and we can if it's confusing.)\n",
    "\n",
    "## Finding the Normal Modes Amplitudes\n",
    "\n",
    "Ok, now we need to find the normal mode amplitudes. That is we assumed sinusoidal oscillations, but at what amplitudes? We will show how to do this with one frequency ($\\omega_1$), and then break up the work of the the other two. These frequencies are:\n",
    "\n",
    "$$\\omega_A = 2\\dfrac{k}{m}; \\qquad \\omega_B = \\left(2-\\sqrt{2}\\right)\\dfrac{k}{m}; \\qquad \\omega_C = \\left(2+\\sqrt{2}\\right)\\dfrac{k}{m}\\qquad$$\n",
    "\n",
    "**&#9989; Do this** \n",
    "\n",
    "After we do the first one, pick another frequencies and repeat. Answer the follow questions:\n",
    "\n",
    "1. What does this motion physically look like? What are the masses doing?\n",
    "2. How does the frequency of oscillation make sense? Why is it higher or lower than $\\omega_A$?"
   ]
  },
  {
   "cell_type": "markdown",
   "metadata": {},
   "source": [
    "## Notes\n",
    "\n",
    "* [Partial Solution to Activity](https://github.com/dannycab/phy415msu/blob/main/MMIPbook/assets/pdfs/notes/Notes_2_Three_Coupled_Oscillators.pdf)"
   ]
  },
  {
   "cell_type": "markdown",
   "metadata": {},
   "source": []
  }
 ],
 "metadata": {
  "kernelspec": {
   "display_name": "Python 3.10.5 ('teaching')",
   "language": "python",
   "name": "python3"
  },
  "language_info": {
   "codemirror_mode": {
    "name": "ipython",
    "version": 3
   },
   "file_extension": ".py",
   "mimetype": "text/x-python",
   "name": "python",
   "nbconvert_exporter": "python",
   "pygments_lexer": "ipython3",
   "version": "3.10.5"
  },
  "orig_nbformat": 4,
  "vscode": {
   "interpreter": {
    "hash": "4cde1c9ed8a683d36136dc08e8027575d08b07893b804429583e933d2fe93b0b"
   }
  }
 },
 "nbformat": 4,
 "nbformat_minor": 2
}
