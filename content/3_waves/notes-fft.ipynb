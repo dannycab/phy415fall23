{
 "cells": [
  {
   "cell_type": "markdown",
   "metadata": {},
   "source": [
    "# 6 Oct 23 - Notes: Fast Fourier Transform"
   ]
  },
  {
   "cell_type": "markdown",
   "metadata": {},
   "source": [
    "It might not have been obvious to you, but our work so far has expected that our $V(t)$ be a continuous function of time, and that we can sample it any time we want. In reality, you are limited to the response of your equipment, which leads to a phenomenon knows as the [Nyquist-Shannon sampling theorem](https://en.wikipedia.org/wiki/Nyquist%E2%80%93Shannon_sampling_theorem). This theorem states that if you want to study a signal with a frequency $f$, you need to sample it at least $2f$ times per second. This is known as the [Nyquist frequency](https://en.wikipedia.org/wiki/Nyquist_frequency). If you don't sample at least this often, you will get aliasing, which is when a signal at a higher frequency is indistinguishable from a signal at a lower frequency. As you can tell, there's a lot of issues with sampling when it comes to studying signals.\n",
    "\n",
    "## The Fast Fourier Transform\n",
    "\n",
    "This video from Veritasium really explains the importance of this algorithm. It's a great watch.\n",
    "\n",
    "[![History of the FFT](https://markdown-videos-api.jorgenkh.no/youtube/nmgFG7PUHfo?width=720&height=405)](https://inv.tux.pizza/watch?v=nmgFG7PUHfo)\n",
    "\n",
    "- Non-Commercial Link: [https://inv.tux.pizza/watch?v=nmgFG7PUHfo](https://inv.tux.pizza/watch?v=nmgFG7PUHfo)\n",
    "- Commercial Link: [https://youtube.com/watch?v=nmgFG7PUHfo](https://youtube.com/watch?v=nmgFG7PUHfo)\n"
   ]
  },
  {
   "cell_type": "markdown",
   "metadata": {},
   "source": [
    "## The Discrete Fourier Transform\n",
    "\n",
    "The foundation of this algorithm is the [Discrete Fourier Transform](https://en.wikipedia.org/wiki/Discrete_Fourier_transform). This is a mathematical operation that takes a discrete signal and transforms it into a continuous function of frequency. The equation for this is:\n",
    "\n",
    "$"
   ]
  },
  {
   "cell_type": "markdown",
   "metadata": {},
   "source": [
    "## Additional Resources\n",
    "\n",
    "We do not expect you to understand the details of an FFT, how it is derived and how it works when written into a computer program. However, if you are interested, here are some resources that you can use to learn more about the FFT.\n",
    "\n",
    "### Videos\n",
    "\n",
    "This is an excellent discussion of the underlying mathematics and the setup of the algorithm.\n",
    "\n",
    "[![Mathematics of the FFT](https://markdown-videos-api.jorgenkh.no/youtube/h7apO7q16V0?width=720&height=405)](https://inv.tux.pizza/watch?v=h7apO7q16V0)\n",
    "\n",
    "- Non-Commercial Link: [https://inv.tux.pizza/watch?v=h7apO7q16V0](https://inv.tux.pizza/watch?v=h7apO7q16V0)\n",
    "- Commercial Link: [https://youtube.com/watch?v=h7apO7q16V0](https://youtube.com/watch?v=h7apO7q16V0)\n",
    "\n",
    "This is a presentation of how to implement the FFT using Python code.\n",
    "\n",
    "[![Implementing FFT](https://markdown-videos-api.jorgenkh.no/youtube/Ty0JcR6Dvis?width=720&height=405)](https://inv.tux.pizza/watch?v=Ty0JcR6Dvis)\n",
    "\n",
    "- Non-Commercial Link: [https://inv.tux.pizza/watch?v=Ty0JcR6Dvis](https://inv.tux.pizza/watch?v=Ty0JcR6Dvis)\n",
    "- Commercial Link: [https://youtube.com/watch?v=Ty0JcR6Dvis](https://youtube.com/watch?v=Ty0JcR6Dvis)\n",
    "\n",
    "\n",
    "### Handwritten notes\n",
    "- [Introduction to FFT](../assets/notes/Notes-Introduction_to_FFT.pdf)"
   ]
  },
  {
   "cell_type": "markdown",
   "metadata": {},
   "source": []
  }
 ],
 "metadata": {
  "language_info": {
   "name": "python"
  }
 },
 "nbformat": 4,
 "nbformat_minor": 2
}
