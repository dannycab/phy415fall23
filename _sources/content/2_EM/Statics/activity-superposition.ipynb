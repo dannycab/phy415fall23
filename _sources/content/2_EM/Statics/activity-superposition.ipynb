{
 "cells": [
  {
   "cell_type": "markdown",
   "metadata": {},
   "source": [
    "# 28 Sep 23 - Activity: Superposition of Fields\n",
    "\n",
    "Outline:\n",
    "- Coulomb's Law - setup integrals; describe process\n",
    "- Activity - setup integral for ring of charge; then for disk of charge\n",
    "- Magnetic Field - Biot-Savart Law - setup integrals; describe process (real pain, so we don't often use it)\n",
    "- Ampere's Law\n",
    "- Activity - setup integral for a thick wire\n",
    "- Activity - chunks of charge in code\n"
   ]
  },
  {
   "cell_type": "markdown",
   "metadata": {},
   "source": []
  }
 ],
 "metadata": {
  "language_info": {
   "name": "python"
  },
  "orig_nbformat": 4
 },
 "nbformat": 4,
 "nbformat_minor": 2
}
