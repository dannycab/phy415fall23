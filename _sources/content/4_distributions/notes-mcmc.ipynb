{
 "cells": [
  {
   "cell_type": "markdown",
   "metadata": {},
   "source": [
    "# 4 Dec 23 - Notes: Markov Chain Monte Carlo Modeling\n",
    "\n",
    "One of the principal tools we have at our disposal when it comes to systems with randomness is the Monte Carlo simulation. Monte Carlo is a large class of approaches that all rely on probabilistic outcomes to determine results. In physics, we often use Monte Carlo to find integrals or sums that we are unable to compute by hand. \n",
    "\n",
    "## Markov Chain Monte Carlo\n",
    "\n",
    "We often find ourselves using a type of Monte Carlo simulation that makes use of a Markov Chain. This is called the MCMC model. The mathematical foundations of Markov Chains are well beyond the scope of this course, but the principal issue is that we want to describe is how this simulation works. The video below describes the conceptual backing of MCMC and how it was first used in physics in 1953 to develop a model of an ideal gas. We will make a similar model!"
   ]
  },
  {
   "cell_type": "code",
   "execution_count": 6,
   "metadata": {},
   "outputs": [
    {
     "data": {
      "image/jpeg": "[encoded data removed]",
      "text/html": [
       "\n",
       "        <iframe\n",
       "            width=\"800\"\n",
       "            height=\"600\"\n",
       "            src=\"https://www.youtube.com/embed/12eZWG0Z5gY\"\n",
       "            frameborder=\"0\"\n",
       "            allowfullscreen\n",
       "            \n",
       "        ></iframe>\n",
       "        "
      ],
      "text/plain": [
       "<IPython.lib.display.YouTubeVideo at 0x115aabf70>"
      ]
     },
     "execution_count": 6,
     "metadata": {},
     "output_type": "execute_result"
    }
   ],
   "source": [
    "from IPython.display import YouTubeVideo\n",
    "YouTubeVideo(\"12eZWG0Z5gY\", 800, 600)\n",
    "## If embed doesn't work just click to go to YouTube"
   ]
  },
  {
   "cell_type": "markdown",
   "metadata": {},
   "source": [
    "## Statistical Mechanics\n",
    "\n",
    "MCMC is used in lots of statistical mechanics problems because they are fundamentally probabilistic by nature. Starting with the \"chance\" of finding our system in a given state (with known energy, $E_i$) at a known temperature (T) given by the Boltzmann factor:\n",
    "\n",
    "$$e^{-E_i/{k_b T}}$$\n",
    "\n",
    "where $k_b$ is the Boltzmann constant. Through this, we developed a statistical model where we found that the normalized probability of finding your system in a state $s$ with energy $E_s$ (just using the $s$ to indicate a state) is given by:\n",
    "\n",
    "$$P(s) = \\dfrac{1}{Z} e^{-E_s/{k_b T}}$$\n",
    "\n",
    "where $Z$ is the partition function, a constant for a given temperature that normalizes our calculation. It is a sum over all states:\n",
    "\n",
    "$$Z = \\sum_s e^{-E_s/{k_b T}}$$\n",
    "\n",
    "Our analysis relied on the development of a statistical theory of mechanics, and we illustrated it with an ideal gas. Notes appear below:\n",
    "\n",
    "* [Introduction to Stat. Mech.](https://github.com/dannycab/phy415msu/blob/main/MMIPbook/assets/pdfs/notes/Notes_4_Intro_to_Stat_Mech.pdf)\n",
    "* [The Ideal Gas](https://github.com/dannycab/phy415msu/blob/main/MMIPbook/assets/pdfs/notes/Notes_4_Ideal_Gas_Model.pdf)\n",
    "\n",
    "Because $P(S)$ is a probability we can use it find average values (expectation values) of a thermodynamic system. We did this for energy using the thermodynamic relations in the notes. But we can also use statistical properties to find the same. For example, finding the expected internal energy of a system, $\\langle U \\rangle$, just involves adding up all the possible energy states multiplied by their probabilities!\n",
    "\n",
    "$$\\langle U \\rangle = \\sum_s E_s P(s)$$\n",
    "\n",
    "When these sums are really hard to compute because there's lots of states or only a few that contribute substantially (as in the case for large systems), we can use selective sampling, which is the basis for MCMC. We will discuss that conceptually in class before using MCMC."
   ]
  },
  {
   "cell_type": "markdown",
   "metadata": {},
   "source": []
  }
 ],
 "metadata": {
  "kernelspec": {
   "display_name": "Python 3.10.5 ('teaching')",
   "language": "python",
   "name": "python3"
  },
  "language_info": {
   "codemirror_mode": {
    "name": "ipython",
    "version": 3
   },
   "file_extension": ".py",
   "mimetype": "text/x-python",
   "name": "python",
   "nbconvert_exporter": "python",
   "pygments_lexer": "ipython3",
   "version": "3.10.5"
  },
  "orig_nbformat": 4,
  "vscode": {
   "interpreter": {
    "hash": "4cde1c9ed8a683d36136dc08e8027575d08b07893b804429583e933d2fe93b0b"
   }
  }
 },
 "nbformat": 4,
 "nbformat_minor": 2
}
