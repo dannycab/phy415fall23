{
 "cells": [
  {
   "cell_type": "markdown",
   "metadata": {},
   "source": [
    "# 9 Nov 23 - Activity: Applying the FFT to data\n",
    "\n",
    "Y'all have learned the main process for using an FFT on a 1D signal, so let's use it in a scenario that would occur in a lab. You work in a lab that is observing light curves to determine if there are transiting objects near a star and, if so, what is their period. Using the brightness of the star itself, we can determine it's mass and then it's a quick analysis to get the mass of the transiting objects (Thanks, Newton!).\n",
    "\n",
    "In this activity, you have three data files that describe the CCD voltage on a sensor as a function of time. The observations were taken over a 48 hour period. You will need to read in the data, determine the sampling frequency, and then develop an FFT model to look into the frequency components.\n",
    "\n",
    "<img src=\"https://images.newscientist.com/wp-content/uploads/2019/09/26122246/c0471894-rejuvenated_gas_giant_planet_illustration-spl.jpg\" width=600px>\n",
    "\n",
    "### Data Files\n",
    "\n",
    "* [Observation 1](https://raw.githubusercontent.com/dannycab/phy415msu/main/MMIPbook/assets/data/FFT/obs1.csv)\n",
    "* [Observation 2](https://raw.githubusercontent.com/dannycab/phy415msu/main/MMIPbook/assets/data/FFT/obs2.csv)\n",
    "* [Observation 3](https://raw.githubusercontent.com/dannycab/phy415msu/main/MMIPbook/assets/data/FFT/obs3.csv)\n",
    "\n",
    "The first data file is known to contain data from the observation of 2 transiting objects. Your lab mate misnamed the other two files, so it's not clear if they are the same set of observations or not.\n",
    "\n",
    "Start with observation 1."
   ]
  },
  {
   "cell_type": "markdown",
   "metadata": {},
   "source": [
    "### Questions to answer\n",
    "\n",
    "For observation 1,\n",
    "\n",
    "1. What does the FFT look like? Can you describe where the real observavtions might be in the plot?\n",
    "2. Can you clean the noise from the data to find the real signal?\n",
    "3. Can you estimate the transit times for the objects?\n",
    "\n",
    "For observations 2 and 3,\n",
    "\n",
    "1. Which one (or both or neither) observations are those of observation 1?\n",
    "2. If there's a file with new observations, can you learn the same things as above?"
   ]
  },
  {
   "cell_type": "markdown",
   "metadata": {},
   "source": []
  },
  {
   "cell_type": "code",
   "execution_count": 1,
   "metadata": {},
   "outputs": [],
   "source": [
    "## your code here"
   ]
  },
  {
   "cell_type": "code",
   "execution_count": null,
   "metadata": {},
   "outputs": [],
   "source": []
  }
 ],
 "metadata": {
  "kernelspec": {
   "display_name": "Python 3.10.5 ('teaching')",
   "language": "python",
   "name": "python3"
  },
  "language_info": {
   "codemirror_mode": {
    "name": "ipython",
    "version": 3
   },
   "file_extension": ".py",
   "mimetype": "text/x-python",
   "name": "python",
   "nbconvert_exporter": "python",
   "pygments_lexer": "ipython3",
   "version": "3.10.5"
  },
  "orig_nbformat": 4,
  "vscode": {
   "interpreter": {
    "hash": "4cde1c9ed8a683d36136dc08e8027575d08b07893b804429583e933d2fe93b0b"
   }
  }
 },
 "nbformat": 4,
 "nbformat_minor": 2
}
